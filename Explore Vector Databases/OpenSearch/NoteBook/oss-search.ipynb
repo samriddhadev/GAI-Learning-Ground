{
 "cells": [
  {
   "cell_type": "markdown",
   "id": "2e7caef7-8023-4486-92b7-90a12431b3b7",
   "metadata": {},
   "source": [
    "# Initialization"
   ]
  },
  {
   "cell_type": "code",
   "execution_count": 70,
   "id": "68e06ecf-bb0d-4f17-92f9-16cd374d2957",
   "metadata": {},
   "outputs": [],
   "source": [
    "import os\n",
    "import logging\n",
    "\n",
    "logger = logging.getLogger(__name__)\n",
    "logging.basicConfig(level=logging.INFO)"
   ]
  },
  {
   "cell_type": "code",
   "execution_count": 71,
   "id": "c8baa460-686b-4d46-a0b2-a836438782f6",
   "metadata": {},
   "outputs": [],
   "source": [
    "query = \"List all the features provided by AWS on security governance?\"\n",
    "index_name = \"aws-idx\"\n",
    "k = 5"
   ]
  },
  {
   "cell_type": "code",
   "execution_count": 72,
   "id": "4887f817-6d4a-448e-9c49-ce4e640f63a5",
   "metadata": {},
   "outputs": [],
   "source": [
    "from langchain_openai import OpenAIEmbeddings\n",
    "embeddings = OpenAIEmbeddings(openai_api_key=os.getenv('OPENAI_API_KEY'), model=\"text-embedding-ada-002\")"
   ]
  },
  {
   "cell_type": "markdown",
   "id": "5976018c-9632-4c1a-a020-52bad711a8c7",
   "metadata": {},
   "source": [
    "# k-NN Search"
   ]
  },
  {
   "cell_type": "code",
   "execution_count": 73,
   "id": "af0f96f7-6032-44b3-815f-b788e6eeaa4b",
   "metadata": {},
   "outputs": [],
   "source": [
    "from langchain_community.vectorstores import OpenSearchVectorSearch\n",
    "client = OpenSearchVectorSearch(\n",
    "    embedding_function=embeddings,\n",
    "    index_name=index_name,\n",
    "    opensearch_url=\"http://localhost:9200\",\n",
    "    http_auth=(\"admin\", \"Severus11#\"),\n",
    "    use_ssl = False,\n",
    "    verify_certs = False,\n",
    "    timeout=300,\n",
    "    ssl_assert_hostname = False,\n",
    "    ssl_show_warn = False,\n",
    ")"
   ]
  },
  {
   "cell_type": "code",
   "execution_count": 74,
   "id": "d3956947-4abb-4f59-b649-b803fff492fe",
   "metadata": {},
   "outputs": [
    {
     "name": "stderr",
     "output_type": "stream",
     "text": [
      "INFO:httpx:HTTP Request: POST https://api.openai.com/v1/embeddings \"HTTP/1.1 200 OK\"\n",
      "INFO:opensearch:POST http://localhost:9200/aws-idx/_search [status:200 request:0.147s]\n"
     ]
    },
    {
     "name": "stdout",
     "output_type": "stream",
     "text": [
      "[Document(page_content='An Overview of the AWS Cloud Adoption Framework\\nAWS Whitepaper\\nPoint of contact\\n• Dr. Saša Baškarada, Worldwide Lead, AWS Cloud Adoption Framework\\n35', metadata={'file_path': 'C:/workspace/experiments/GenAI/Projects/Test Data/aws.pdf', 'creator': 'ZonBook XSL Stylesheets with Apache FOP', 'modDate': '', 'keywords': '', 'trapped': '', 'author': 'Amazon Web Services', 'subject': '', 'file_name': 'aws.pdf', 'format': 'PDF 1.4', 'source': 'C:/workspace/experiments/GenAI/Projects/Test Data/aws.pdf', 'total_pages': 42, 'title': 'An Overview of the AWS Cloud Adoption Framework - AWS Whitepaper', 'creationDate': 'D:20240525051807Z', 'terms': ['aws cloud adoption framework aws whitepaper point', 'aws cloud adoption framework 35', 'contact • dr', 'worldwide lead', 'saša baškarada', 'overview'], 'producer': 'Apache FOP Version 2.6', 'page': 38}), Document(page_content='An Overview of the AWS Cloud Adoption Framework\\nAWS Whitepaper\\nAlso available on Audible, Kindle, and as an eBook.\\niv', metadata={'file_path': 'C:/workspace/experiments/GenAI/Projects/Test Data/aws.pdf', 'creator': 'ZonBook XSL Stylesheets with Apache FOP', 'modDate': '', 'keywords': '', 'trapped': '', 'author': 'Amazon Web Services', 'subject': '', 'file_name': 'aws.pdf', 'format': 'PDF 1.4', 'source': 'C:/workspace/experiments/GenAI/Projects/Test Data/aws.pdf', 'total_pages': 42, 'title': 'An Overview of the AWS Cloud Adoption Framework - AWS Whitepaper', 'creationDate': 'D:20240525051807Z', 'terms': ['aws cloud adoption framework aws whitepaper also available', 'overview', 'kindle', 'iv', 'ebook', 'audible'], 'producer': 'Apache FOP Version 2.6', 'page': 3})]\n"
     ]
    }
   ],
   "source": [
    "knndocs = client.similarity_search(\n",
    "    \"What did the president say about Ketanji Brown Jackson\",\n",
    "    search_type=\"painless_scripting\",\n",
    "    space_type=\"cosineSimilarity\",\n",
    "    k=k\n",
    ")\n",
    "print(knndocs[:2])"
   ]
  },
  {
   "cell_type": "markdown",
   "id": "8a6bd575-0aa3-4650-a044-e1c5a4083ccc",
   "metadata": {},
   "source": [
    "# Neural Search"
   ]
  },
  {
   "cell_type": "code",
   "execution_count": 77,
   "id": "7cbe5f51-e39a-484b-9a5b-9036afc1311e",
   "metadata": {},
   "outputs": [],
   "source": [
    "neural_search_query = {\n",
    "    'size': k,\n",
    "    'query': {\n",
    "        \"neural\": {\n",
    "            \"bert_embeddings\": {\n",
    "                \"query_text\": query,\n",
    "                \"model_id\": \"acBUIZABJGEOAwdvUors\",\n",
    "                \"k\": k\n",
    "            }\n",
    "        }\n",
    "    }\n",
    "}\n"
   ]
  },
  {
   "cell_type": "code",
   "execution_count": 81,
   "id": "bc2bead3-96b0-41f1-a219-f6583c70e519",
   "metadata": {},
   "outputs": [
    {
     "name": "stderr",
     "output_type": "stream",
     "text": [
      "INFO:opensearch:POST http://localhost:9200/aws-idx/_search [status:200 request:0.115s]\n"
     ]
    },
    {
     "name": "stdout",
     "output_type": "stream",
     "text": [
      "[Document(page_content='An Overview of the AWS Cloud Adoption Framework\\nAWS Whitepaper\\nNotices\\nCustomers are responsible for making their own independent assessment of the information in \\nthis document. This document: (a) is for informational purposes only, (b) represents current AWS \\nproduct oﬀerings and practices, which are subject to change without notice, and (c) does not create \\nany commitments or assurances from AWS and its aﬃliates, suppliers or licensors. AWS products or \\nservices are provided “as is” without warranties, representations, or conditions of any kind, whether \\nexpress or implied. The responsibilities and liabilities of AWS to its customers are controlled by \\nAWS agreements, and this document is not part of, nor does it modify, any agreement between \\nAWS and its customers.\\n© 2021 Amazon Web Services, Inc. or its aﬃliates. All rights reserved.\\n38', metadata={'file_path': 'C:/workspace/experiments/GenAI/Projects/Test Data/aws.pdf', 'creator': 'ZonBook XSL Stylesheets with Apache FOP', 'modDate': '', 'keywords': '', 'trapped': '', 'author': 'Amazon Web Services', 'subject': '', 'file_name': 'aws.pdf', 'format': 'PDF 1.4', 'source': 'C:/workspace/experiments/GenAI/Projects/Test Data/aws.pdf', 'total_pages': 42, 'title': 'An Overview of the AWS Cloud Adoption Framework - AWS Whitepaper', 'creationDate': 'D:20240525051807Z', 'terms': ['aws cloud adoption framework aws whitepaper notices customers', 'represents current aws product oﬀerings', '© 2021 amazon web services', '” without warranties', 'change without notice', 'aws products', 'aws agreements', 'whether express', 'rights reserved', 'provided “', 'informational purposes', 'independent assessment', 'aws', 'aws', 'aws', 'customers', 'customers', 'services', 'suppliers', 'subject', 'responsible', 'responsibilities', 'representations', 'practices', 'part', 'overview', 'modify', 'making', 'licensors', 'liabilities', 'kind', 'information', 'inc', 'implied', 'document', 'document', 'document', 'create', 'controlled', 'conditions', 'commitments', 'c', 'b', 'aﬃliates', 'aﬃliates', 'assurances', 'agreement', '38'], 'producer': 'Apache FOP Version 2.6', 'page': 41}), Document(page_content='An Overview of the AWS Cloud Adoption Framework\\nAWS Whitepaper\\nAppendix: AWS CAF capabilities poster\\nAWS CAF foundational capabilities\\n34', metadata={'file_path': 'C:/workspace/experiments/GenAI/Projects/Test Data/aws.pdf', 'creator': 'ZonBook XSL Stylesheets with Apache FOP', 'modDate': '', 'keywords': '', 'trapped': '', 'author': 'Amazon Web Services', 'subject': '', 'file_name': 'aws.pdf', 'format': 'PDF 1.4', 'source': 'C:/workspace/experiments/GenAI/Projects/Test Data/aws.pdf', 'total_pages': 42, 'title': 'An Overview of the AWS Cloud Adoption Framework - AWS Whitepaper', 'creationDate': 'D:20240525051807Z', 'terms': ['aws caf capabilities poster aws caf foundational capabilities 34', 'aws cloud adoption framework aws whitepaper appendix', 'overview'], 'producer': 'Apache FOP Version 2.6', 'page': 37})]\n"
     ]
    }
   ],
   "source": [
    "from langchain.schema.document import Document\n",
    "\n",
    "neural_response = client.client.search(\n",
    "    body = neural_search_query,\n",
    "    index = index_name\n",
    ")\n",
    "neuraldocs = []\n",
    "for item in neural_response['hits']['hits']:\n",
    "    neuraldocs.append(Document(page_content=item['_source']['text'], metadata=item['_source']['metadata']))\n",
    "\n",
    "print(neuraldocs[:2])"
   ]
  },
  {
   "cell_type": "markdown",
   "id": "5f34e151-cf53-4914-bb13-585b165f7a48",
   "metadata": {},
   "source": [
    "# Neural Sparse Search"
   ]
  },
  {
   "cell_type": "code",
   "execution_count": 84,
   "id": "704c02d0-b084-4608-b77b-efcee95c17ea",
   "metadata": {},
   "outputs": [],
   "source": [
    "neural_sparse_search_query = {\n",
    "    'size': k,\n",
    "    'query': {\n",
    "        \"neural_sparse\": {\n",
    "            \"oss_sparse_embeddings\": {\n",
    "                \"query_text\": query,\n",
    "                \"model_id\": \"asBUIZABJGEOAwdvU4oe\"\n",
    "            }\n",
    "        }\n",
    "    }\n",
    "}\n"
   ]
  },
  {
   "cell_type": "code",
   "execution_count": 85,
   "id": "3665a862-b96b-4940-b102-a7271c44d099",
   "metadata": {},
   "outputs": [
    {
     "name": "stderr",
     "output_type": "stream",
     "text": [
      "INFO:opensearch:POST http://localhost:9200/aws-idx/_search [status:200 request:5.337s]\n"
     ]
    },
    {
     "name": "stdout",
     "output_type": "stream",
     "text": [
      "[Document(page_content='An Overview of the AWS Cloud Adoption Framework\\nAWS Whitepaper\\nSecurity perspective: compliance and assurance\\nThe security perspective helps you achieve the conﬁdentiality, integrity, and availability of your \\ndata and cloud workloads. It comprises nine capabilities shown in the following ﬁgure. Common \\nstakeholders include CISO, CCO, internal audit leaders, and security architects and engineers.\\nAWS CAF Security perspective capabilities\\n• Security governance – Develop, maintain, and eﬀectively communicate security roles, \\nresponsibilities, accountabilities, policies, processes, and procedures. Ensuring clear lines of \\naccountability is critical to the eﬀectiveness of your security program. Understanding your assets, \\nsecurity risks, and compliance requirements that apply to your industry and/or organization \\nwill help you prioritize your security eﬀorts. Providing ongoing direction and advice will help \\naccelerate your transformation by allowing your teams to move faster.\\nUnderstand your responsibility for security in the cloud. Inventory, categorize, and prioritize \\nrelevant stakeholders, assets, and information exchanges. Identify laws, rules, regulations, and\\nstandards/frameworks that apply to your industry and/or organization. Perform an annual risk \\nassessment on your organization. Risk assessments can assist in determining the likelihood and \\nimpact of identiﬁed risks and/or vulnerabilities aﬀecting your organization. Allocate suﬃcient \\nresources to identiﬁed security roles and responsibilities. Develop security policies, processes, \\nprocedures, and controls in line with your compliance requirements and organizational risk \\ntolerance; continuously update based on evolving risks and requirements.\\n• Security assurance – Continuously monitor, evaluate, manage, and improve the eﬀectiveness of \\nyour security and privacy programs. Your organization, and the customers you serve, need trust \\nand conﬁdence that the controls that you have implemented will enable you to meet regulatory \\n25', metadata={'file_path': 'C:/workspace/experiments/GenAI/Projects/Test Data/aws.pdf', 'creator': 'ZonBook XSL Stylesheets with Apache FOP', 'modDate': '', 'keywords': '', 'trapped': '', 'author': 'Amazon Web Services', 'subject': '', 'file_name': 'aws.pdf', 'format': 'PDF 1.4', 'source': 'C:/workspace/experiments/GenAI/Projects/Test Data/aws.pdf', 'total_pages': 42, 'title': 'An Overview of the AWS Cloud Adoption Framework - AWS Whitepaper', 'creationDate': 'D:20240525051807Z', 'terms': ['aws caf security perspective capabilities • security governance – develop', 'aws cloud adoption framework aws whitepaper security perspective', '• security assurance – continuously monitor', 'comprises nine capabilities shown', 'eﬀectively communicate security roles', 'common stakeholders include ciso', 'security perspective helps', 'develop security policies', 'continuously update based', 'identiﬁed security roles', 'providing ongoing direction', 'meet regulatory 25', 'internal audit leaders', 'ensuring clear lines', 'allocate suﬃcient resources', 'organizational risk tolerance', 'annual risk assessment', 'prioritize relevant stakeholders', 'security risks', 'security program', 'security eﬀorts', 'security architects', 'cloud workloads', 'risk assessments', 'identiﬁed risks', 'security', 'security', 'vulnerabilities aﬀecting', 'privacy programs', 'need trust', 'move faster', 'information exchanges', 'identify laws', 'following ﬁgure', 'evolving risks', 'cloud', 'help accelerate', 'assurance', 'compliance requirements', 'compliance requirements', 'prioritize', 'policies', 'requirements', 'compliance', 'help', 'understanding', 'understand', 'transformation', 'teams', 'standards', 'serve', 'rules', 'responsibility', 'responsibilities', 'responsibilities', 'regulations', 'processes', 'processes', 'procedures', 'procedures', 'perform', 'overview', 'organization', 'organization', 'organization', 'organization', 'organization', 'manage', 'maintain', 'line', 'likelihood', 'inventory', 'integrity', 'industry', 'industry', 'improve', 'implemented', 'impact', 'frameworks', 'eﬀectiveness', 'eﬀectiveness', 'evaluate', 'engineers', 'enable', 'determining', 'data', 'customers', 'critical', 'conﬁdentiality', 'conﬁdence', 'controls', 'controls', 'cco', 'categorize', 'availability', 'assist', 'assets', 'assets', 'apply', 'apply', 'allowing', 'advice', 'achieve', 'accountability', 'accountabilities'], 'producer': 'Apache FOP Version 2.6', 'page': 28}), Document(page_content='An Overview of the AWS Cloud Adoption Framework\\nAWS Whitepaper\\nmanagement, consider adopting serverless technologies. Focus on supporting real-time data \\nprocessing, and consider adopting a Lake House architecture to facilitate data movements \\nbetween data lakes and purpose-built data stores.\\n• Platform engineering – Build a compliant multi-account cloud environment with enhanced \\nsecurity features, and packaged, reusable cloud products. An eﬀective cloud environment \\nwill allow your teams to easily provision new accounts, while ensuring that those accounts \\nconform to organizational policies. A curated set of cloud products will enable you to codify best \\npractices, helping you with governance while increasing the speed and consistency of your cloud \\ndeployments. Deploy your best practice blueprints, and detective and preventative guardrails.\\nIntegrate your cloud environment with your existing ecosystem to enable desired hybrid cloud \\nuse cases.\\nAutomate the account provisioning workﬂow and leverage multiple accounts to support your \\nsecurity and governance goals. Set up connectivity between your on-premises and cloud \\nenvironments as well as between diﬀerent cloud accounts. Implement federation between your \\nexisting identity provider (IdP) and your cloud environment so that users can authenticate using \\ntheir existing login credentials. Centralize logging, establish cross-account security audits, create \\ninbound and outbound Domain Name System (DNS) resolvers, and get dashboard visibility into \\nyour accounts and guardrails.\\nEvaluate and certify cloud services for consumption in alignment with corporate standards and \\nconﬁguration management. Package and continuously improve enterprise standards as self-\\nservice deployable products and consumable services. Leverage infrastructure as code (IaC) to \\ndeﬁne conﬁgurations in a declarative way.\\n• Data engineering – Automate and orchestrate data ﬂows across your organization. Automated \\ndata and analytics platforms and pipelines may help you improve productivity and accelerate \\ntime to market. Form cross-functional data engineering teams comprising infrastructure and \\noperations, software engineering, and data management. Leverage metadata to automate\\npipelines that consume raw and produce optimized data. Implement relevant architectural \\nguardrails and security controls, as well as monitoring, logging, and alerting to help with pipeline \\nfailures. Identify common data integration patterns and build reusable blueprints that abstract \\naway the complexity of pipeline development. Share blueprints with business analysts and data \\nscientists and enable them to operate using self-service methods.\\n• Provisioning and orchestration – Create, manage, and distribute catalogs of approved cloud \\nproducts to end users. Maintaining consistent infrastructure provisioning in a scalable and \\nrepeatable manner becomes more complex as your organization grows. Streamlined provisioning \\nand orchestration help you achieve consistent governance and meet your compliance \\n23', metadata={'file_path': 'C:/workspace/experiments/GenAI/Projects/Test Data/aws.pdf', 'creator': 'ZonBook XSL Stylesheets with Apache FOP', 'modDate': '', 'keywords': '', 'trapped': '', 'author': 'Amazon Web Services', 'subject': '', 'file_name': 'aws.pdf', 'format': 'PDF 1.4', 'source': 'C:/workspace/experiments/GenAI/Projects/Test Data/aws.pdf', 'total_pages': 42, 'title': 'An Overview of the AWS Cloud Adoption Framework - AWS Whitepaper', 'creationDate': 'D:20240525051807Z', 'terms': ['aws cloud adoption framework aws whitepaper management', 'enable desired hybrid cloud use cases', 'functional data engineering teams comprising infrastructure', 'identify common data integration patterns', '• platform engineering – build', '• data engineering – automate', 'outbound domain name system', 'orchestrate data ﬂows across', 'easily provision new accounts', 'maintaining consistent infrastructure provisioning', 'continuously improve enterprise standards', 'consider adopting serverless technologies', 'implement relevant architectural guardrails', 'build reusable blueprints', 'produce optimized data', 'facilitate data movements', 'built data stores', 'orchestration – create', 'repeatable manner becomes', 'lake house architecture', 'get dashboard visibility', 'codify best practices', 'reusable cloud products', 'approved cloud products', 'time data processing', 'diﬀerent cloud accounts', 'account provisioning workﬂow', 'existing login credentials', 'existing identity provider', 'best practice blueprints', 'eﬀective cloud environment', 'certify cloud services', 'account cloud environment', 'achieve consistent governance', 'service deployable products', 'enhanced security features', 'account security audits', 'leverage multiple accounts', 'pipelines may help', 'operate using self', 'data management', '• provisioning', 'software engineering', 'leverage infrastructure', 'consider adopting', 'cloud products', 'conﬁguration management', 'cloud environment', 'cloud environment', 'data scientists', 'data lakes', 'automated data', 'automate pipelines', 'cloud environments', 'cloud deployments', 'improve productivity', 'implement federation', 'corporate standards', 'streamlined provisioning', 'share blueprints', 'existing ecosystem', 'accounts conform', 'service methods', 'orchestration help', 'create inbound', 'consumable services', 'authenticate using', 'accelerate time', 'preventative guardrails', 'leverage metadata', 'security controls', 'supporting real', 'pipeline failures', 'pipeline development', 'organizational policies', 'governance goals', 'form cross', 'establish cross', 'distribute catalogs', 'deﬁne conﬁgurations', 'declarative way', 'consume raw', 'compliant multi', 'compliance 23', 'business analysts', 'analytics platforms', 'abstract away', 'teams', 'organization grows', 'end users', 'curated set', 'centralize logging', 'enable', 'enable', 'automate', 'accounts', 'guardrails', 'security', 'self', 'help', 'governance', 'users', 'set', 'organization', 'logging', 'well', 'well', 'support', 'speed', 'scalable', 'resolvers', 'purpose', 'premises', 'packaged', 'package', 'overview', 'operations', 'monitoring', 'meet', 'market', 'manage', 'integrate', 'increasing', 'idp', 'iac', 'helping', 'focus', 'evaluate', 'ensuring', 'dns', 'detective', 'deploy', 'consumption', 'consistency', 'connectivity', 'complexity', 'complex', 'code', 'allow', 'alignment', 'alerting'], 'producer': 'Apache FOP Version 2.6', 'page': 26})]\n"
     ]
    }
   ],
   "source": [
    "from langchain.schema.document import Document\n",
    "\n",
    "neural_sparse_response = client.client.search(\n",
    "    body = neural_sparse_search_query,\n",
    "    index = index_name\n",
    ")\n",
    "neuralsparsedocs = []\n",
    "for item in neural_sparse_response['hits']['hits']:\n",
    "    neuralsparsedocs.append(Document(page_content=item['_source']['text'], metadata=item['_source']['metadata']))\n",
    "\n",
    "print(neuralsparsedocs[:2])"
   ]
  },
  {
   "cell_type": "markdown",
   "id": "6bbaf0ed-51c0-4418-8eda-364af2c3b637",
   "metadata": {},
   "source": [
    "# Keyword Search - BM25(tf-idf)"
   ]
  },
  {
   "cell_type": "code",
   "execution_count": 90,
   "id": "c3a7ca54-23c9-4bc8-8cf6-da29e9943bcc",
   "metadata": {},
   "outputs": [],
   "source": [
    "keyword_search_query = {\n",
    "    'size': k,\n",
    "    'query': {\n",
    "        \"match\": {\n",
    "            \"text\": {\n",
    "                \"query\": query,\n",
    "                \"analyzer\": \"english\"\n",
    "            }\n",
    "        }\n",
    "    }\n",
    "}\n"
   ]
  },
  {
   "cell_type": "code",
   "execution_count": 91,
   "id": "498d0a4a-490b-446a-b93f-413f5c797b0f",
   "metadata": {},
   "outputs": [
    {
     "name": "stderr",
     "output_type": "stream",
     "text": [
      "INFO:opensearch:POST http://localhost:9200/aws-idx/_search [status:200 request:0.334s]\n"
     ]
    },
    {
     "name": "stdout",
     "output_type": "stream",
     "text": [
      "[Document(page_content=\"An Overview of the AWS Cloud Adoption Framework\\nAWS Whitepaper\\nAn Overview of the AWS Cloud Adoption Framework: AWS \\nWhitepaper\\nCopyright © 2024 Amazon Web Services, Inc. and/or its aﬃliates. All rights reserved.\\nAmazon's trademarks and trade dress may not be used in connection with any product or service \\nthat is not Amazon's, in any manner that is likely to cause confusion among customers, or in any \\nmanner that disparages or discredits Amazon. All other trademarks not owned by Amazon are \\nthe property of their respective owners, who may or may not be aﬃliated with, connected to, or \\nsponsored by Amazon.\", metadata={'file_path': 'C:/workspace/experiments/GenAI/Projects/Test Data/aws.pdf', 'creator': 'ZonBook XSL Stylesheets with Apache FOP', 'modDate': '', 'keywords': '', 'trapped': '', 'author': 'Amazon Web Services', 'subject': '', 'file_name': 'aws.pdf', 'format': 'PDF 1.4', 'source': 'C:/workspace/experiments/GenAI/Projects/Test Data/aws.pdf', 'total_pages': 42, 'title': 'An Overview of the AWS Cloud Adoption Framework - AWS Whitepaper', 'creationDate': 'D:20240525051807Z', 'terms': ['aws whitepaper copyright © 2024 amazon web services', 'aws cloud adoption framework aws whitepaper', 'aws cloud adoption framework', 'cause confusion among customers', 'trade dress may', 'discredits amazon', 'rights reserved', 'respective owners', 'amazon', 'amazon', 'amazon', 'amazon', 'may', 'may', 'used', 'trademarks', 'trademarks', 'sponsored', 'service', 'property', 'product', 'owned', 'overview', 'overview', 'manner', 'manner', 'likely', 'inc', 'disparages', 'connection', 'connected', 'aﬃliates', 'aﬃliated'], 'producer': 'Apache FOP Version 2.6', 'page': 1}), Document(page_content='An Overview of the AWS Cloud Adoption Framework\\nAWS Whitepaper\\nmetrics, quantify desired beneﬁts, and communicate to the relevant stakeholders. Align the \\ntiming and life-span of beneﬁts with your strategic goals. Incorporate beneﬁts delivery into a \\nbeneﬁts realization roadmap. Regularly measure realized beneﬁts, evaluate progress against the \\nbeneﬁts realization roadmap, and adjust the expected beneﬁts as required.\\n• Risk management – Leverage cloud to lower your risk proﬁle. Identify and quantify operational\\nrisks relating to infrastructure availability, reliability, performance, and security, and business \\nrisks relating to reputation, business continuity, and your ability to quickly respond to changing \\nmarket conditions. Understand how cloud can help you reduce your risk proﬁle and continue \\nto iteratively identify and manage risk as part of your agile cadence. Consider leveraging \\ncloud to reduce risks relating to infrastructure operation and failure. Reduce the need for large \\nupfront infrastructure expenditures and reduce the risk of purchasing assets that may be no \\nlonger needed. Depending on the needs of your users, mitigate procurement schedule risks by \\nleveraging cloud to instantly provision and deprovision resources.\\n• Cloud ﬁnancial management – Plan, measure, and optimize your cloud spend. Combine the \\nease of resource provisioning and agility beneﬁts provided by cloud with ﬁnancial accountability\\nfor your teams’ cloud spend. This helps ensure your teams continuously optimize their cloud \\nworkloads and use the best pricing models. Clarify ﬁnancial roles and responsibilities as they \\npertain to cloud, and ensure that key stakeholders across your ﬁnance, business and technology \\norganizations have a shared understanding of cloud costs. Evolve to a more dynamic forecasting\\nand budgeting process, and identify cost variances and anomalies faster.\\nAlign your account structure and tagging strategy with how your organization and products map \\nto the cloud. Structure your accounts and cost allocations tags to map your cloud resources to \\nspeciﬁc teams, projects, and business initiatives, and gain a granular view of your consumption \\npatterns. Deﬁne cost categories to organize your cost and usage information using custom rules \\nto simplify showback or chargeback. Use consolidated billing to help simplify cloud billing and \\nrealize volume discounts. Build guardrails to govern your cloud usage in a scalable manner and \\nwith minimal impact to agility.\\nTo avoid incurring technical debt, ensure your workloads are Well-Architected, and operated in \\nthe most cost-eﬀective manner. Leverage demand-based and time-based dynamic provisioning \\nto pay only for the resources you need. Reduce cloud costs by identifying and eliminating spend \\nassociated with idle or underutilized cloud resources.\\nCentralize the management of on-premises and cloud software licenses to reduce license-related \\ncost overages, reduce non-compliance, and avoid misreporting. Diﬀerentiate between licenses \\nthat are included with cloud resources and licenses that you own. Leverage rule-based controls\\n19', metadata={'file_path': 'C:/workspace/experiments/GenAI/Projects/Test Data/aws.pdf', 'creator': 'ZonBook XSL Stylesheets with Apache FOP', 'modDate': '', 'keywords': '', 'trapped': '', 'author': 'Amazon Web Services', 'subject': '', 'file_name': 'aws.pdf', 'format': 'PDF 1.4', 'source': 'C:/workspace/experiments/GenAI/Projects/Test Data/aws.pdf', 'total_pages': 42, 'title': 'An Overview of the AWS Cloud Adoption Framework - AWS Whitepaper', 'creationDate': 'D:20240525051807Z', 'terms': ['aws cloud adoption framework aws whitepaper metrics', '• cloud ﬁnancial management – plan', '• risk management – leverage cloud', 'usage information using custom rules', 'mitigate procurement schedule risks', 'avoid incurring technical debt', 'large upfront infrastructure expenditures', 'quantify operational risks relating', 'regularly measure realized beneﬁts', 'teams ’ cloud spend', 'help simplify cloud billing', 'clarify ﬁnancial roles', 'quantify desired beneﬁts', 'realize volume discounts', 'eliminating spend associated', 'changing market conditions', 'best pricing models', 'business risks relating', 'incorporate beneﬁts delivery', 'beneﬁts realization roadmap', 'beneﬁts realization roadmap', 'reduce risks relating', 'use consolidated billing', 'key stakeholders across', 'consider leveraging cloud', 'related cost overages', 'deﬁne cost categories', 'cost allocations tags', 'based controls 19', 'teams continuously optimize', 'underutilized cloud resources', 'agility beneﬁts provided', 'cloud software licenses', 'identify cost variances', 'based dynamic provisioning', 'reduce cloud costs', 'cloud usage', 'cloud spend', 'ﬁnancial accountability', 'leveraging cloud', 'cloud costs', 'leverage rule', 'leverage demand', 'speciﬁc teams', 'simplify showback', 'avoid misreporting', 'cloud resources', 'cloud resources', 'expected beneﬁts', 'infrastructure operation', 'infrastructure availability', 'risk proﬁle', 'risk proﬁle', 'manage risk', 'resource provisioning', 'relevant stakeholders', 'dynamic forecasting', 'cloud workloads', 'management', 'technology organizations', 'tagging strategy', 'strategic goals', 'shared understanding', 'scalable manner', 'quickly respond', 'purchasing assets', 'minimal impact', 'longer needed', 'iteratively identify', 'instantly provision', 'granular view', 'eﬀective manner', 'evaluate progress', 'deprovision resources', 'consumption patterns', 'business initiatives', 'business continuity', 'build guardrails', 'budgeting process', 'anomalies faster', 'agile cadence', 'reduce non', 'reduce license', 'products map', 'account structure', 'helps ensure', 'cloud', 'cloud', 'cloud', 'cloud', 'beneﬁts', 'risk', 'measure', 'help', 'cost', 'cost', 'based', 'use', 'resources', 'optimize', 'identify', 'business', 'agility', 'reduce', 'reduce', 'reduce', 'licenses', 'licenses', 'workloads', 'structure', 'map', 'ensure', 'ensure', 'ﬁnance', 'well', 'users', 'understand', 'timing', 'time', 'span', 'security', 'responsibilities', 'required', 'reputation', 'reliability', 'projects', 'premises', 'pertain', 'performance', 'pay', 'part', 'overview', 'organize', 'organization', 'operated', 'needs', 'need', 'need', 'may', 'lower', 'life', 'included', 'idle', 'identifying', 'govern', 'gain', 'failure', 'evolve', 'ease', 'diﬀerentiate', 'depending', 'continue', 'compliance', 'communicate', 'combine', 'chargeback', 'centralize', 'architected', 'align', 'align', 'adjust', 'accounts', 'ability'], 'producer': 'Apache FOP Version 2.6', 'page': 22})]\n"
     ]
    }
   ],
   "source": [
    "from langchain.schema.document import Document\n",
    "\n",
    "keyword_response = client.client.search(\n",
    "    body = keyword_search_query,\n",
    "    index = index_name\n",
    ")\n",
    "keyworddocs = []\n",
    "for item in keyword_response['hits']['hits']:\n",
    "    keyworddocs.append(Document(page_content=item['_source']['text'], metadata=item['_source']['metadata']))\n",
    "\n",
    "print(keyworddocs[:2])"
   ]
  },
  {
   "cell_type": "code",
   "execution_count": null,
   "id": "74f77b14-c7a0-4f40-b30d-81abd56e8dad",
   "metadata": {},
   "outputs": [],
   "source": []
  },
  {
   "cell_type": "code",
   "execution_count": null,
   "id": "5e4014cb-bb4e-4d63-b507-a1d605291cf6",
   "metadata": {},
   "outputs": [],
   "source": []
  },
  {
   "cell_type": "code",
   "execution_count": null,
   "id": "355319f7-44dd-444a-9aba-0848ec499302",
   "metadata": {},
   "outputs": [],
   "source": []
  },
  {
   "cell_type": "code",
   "execution_count": null,
   "id": "21c9a5d9-7c4b-495e-8c08-efe998716fab",
   "metadata": {},
   "outputs": [],
   "source": []
  },
  {
   "cell_type": "code",
   "execution_count": null,
   "id": "6d5bf5b3-3e27-44a2-86bf-82b6a7363d6a",
   "metadata": {},
   "outputs": [],
   "source": []
  },
  {
   "cell_type": "code",
   "execution_count": null,
   "id": "4c9f9ab9-4ab2-4204-9650-ba55502ad471",
   "metadata": {},
   "outputs": [],
   "source": []
  },
  {
   "cell_type": "code",
   "execution_count": null,
   "id": "f53fe173-ed70-4a94-b83c-f28ae0607f87",
   "metadata": {},
   "outputs": [],
   "source": []
  },
  {
   "cell_type": "code",
   "execution_count": null,
   "id": "a1ab25e2-0e8e-48ce-9d02-182c4c41cf6e",
   "metadata": {},
   "outputs": [],
   "source": []
  },
  {
   "cell_type": "code",
   "execution_count": null,
   "id": "479eb20d-ed81-4e5d-8e77-c3a87765c77b",
   "metadata": {},
   "outputs": [],
   "source": []
  },
  {
   "cell_type": "code",
   "execution_count": null,
   "id": "d9c88f74-ef49-4963-98b5-03f34dbde0c8",
   "metadata": {},
   "outputs": [],
   "source": []
  },
  {
   "cell_type": "code",
   "execution_count": null,
   "id": "7baf7ccb-2098-47f3-b9cb-1a42144b9ca0",
   "metadata": {},
   "outputs": [],
   "source": []
  },
  {
   "cell_type": "code",
   "execution_count": null,
   "id": "497d4cec-8f61-466e-80e6-505d2ec306d4",
   "metadata": {},
   "outputs": [],
   "source": []
  },
  {
   "cell_type": "code",
   "execution_count": null,
   "id": "bbe068f0-efd1-4e48-8b78-fc32630fe3de",
   "metadata": {},
   "outputs": [],
   "source": []
  },
  {
   "cell_type": "code",
   "execution_count": null,
   "id": "a8e14400-7e67-4728-ad57-a3d5dadbf2e7",
   "metadata": {},
   "outputs": [],
   "source": []
  },
  {
   "cell_type": "code",
   "execution_count": null,
   "id": "9fdb1355-81c2-4659-9df8-a21d966b9998",
   "metadata": {},
   "outputs": [],
   "source": []
  },
  {
   "cell_type": "code",
   "execution_count": null,
   "id": "453d4c52-3bd6-4a22-99d5-b5f04e01066c",
   "metadata": {},
   "outputs": [],
   "source": []
  },
  {
   "cell_type": "code",
   "execution_count": null,
   "id": "1c81c3ed-2c8f-48b9-a8a3-385d1e2688e7",
   "metadata": {},
   "outputs": [],
   "source": []
  },
  {
   "cell_type": "code",
   "execution_count": null,
   "id": "4f58cc41-4e71-426c-9bcf-4b18d2db5083",
   "metadata": {},
   "outputs": [],
   "source": []
  },
  {
   "cell_type": "code",
   "execution_count": null,
   "id": "9d12e6ea-66e4-4b58-aff8-17403eefff81",
   "metadata": {},
   "outputs": [],
   "source": []
  },
  {
   "cell_type": "code",
   "execution_count": null,
   "id": "05f67c61-b8b1-4aff-ae71-e395c0cd6f00",
   "metadata": {},
   "outputs": [],
   "source": []
  },
  {
   "cell_type": "code",
   "execution_count": null,
   "id": "27623a5e-ff31-48e2-b86d-6de73abca1d9",
   "metadata": {},
   "outputs": [],
   "source": []
  },
  {
   "cell_type": "code",
   "execution_count": null,
   "id": "3157b78b-230c-417d-9576-f471e32f62cf",
   "metadata": {},
   "outputs": [],
   "source": []
  },
  {
   "cell_type": "code",
   "execution_count": null,
   "id": "dfa86bdb-29c3-4537-88e9-37605f92d743",
   "metadata": {},
   "outputs": [],
   "source": []
  },
  {
   "cell_type": "code",
   "execution_count": null,
   "id": "f31fe834-5c1a-48ee-8362-0e7e858a91e8",
   "metadata": {},
   "outputs": [],
   "source": []
  },
  {
   "cell_type": "code",
   "execution_count": null,
   "id": "4a73d87a-2b99-483c-9750-fe996208db5d",
   "metadata": {},
   "outputs": [],
   "source": []
  },
  {
   "cell_type": "code",
   "execution_count": null,
   "id": "4284dccd-d0ba-4c33-b108-9c3d2db2f49c",
   "metadata": {},
   "outputs": [],
   "source": []
  },
  {
   "cell_type": "code",
   "execution_count": null,
   "id": "e9c72686-af12-41df-8162-9db2f5585c65",
   "metadata": {},
   "outputs": [],
   "source": []
  },
  {
   "cell_type": "code",
   "execution_count": null,
   "id": "0ff79fed-a86c-4208-a853-23171d5bcc1e",
   "metadata": {},
   "outputs": [],
   "source": []
  },
  {
   "cell_type": "markdown",
   "id": "99799f9d-e4ba-42cb-ac01-d60d1efd7e4a",
   "metadata": {},
   "source": [
    "## Test with OpenAi"
   ]
  },
  {
   "cell_type": "code",
   "execution_count": 29,
   "id": "eb361e4d-8f72-4c48-a569-8c1c19033177",
   "metadata": {},
   "outputs": [],
   "source": [
    "from langchain_core.output_parsers import JsonOutputParser\n",
    "from langchain_core.prompts import PromptTemplate\n",
    "from langchain_core.pydantic_v1 import BaseModel, Field\n",
    "from langchain_openai import ChatOpenAI\n",
    "from langchain_core.callbacks import StdOutCallbackHandler"
   ]
  },
  {
   "cell_type": "code",
   "execution_count": 31,
   "id": "2f8dda46-9db8-49ff-8440-41a75906ceb2",
   "metadata": {},
   "outputs": [],
   "source": [
    "handler = StdOutCallbackHandler()\n",
    "model = ChatOpenAI(\n",
    "    temperature=0, \n",
    "    model_name=\"gpt-4\",\n",
    "    callbacks=[handler]\n",
    ")"
   ]
  },
  {
   "cell_type": "code",
   "execution_count": 32,
   "id": "d6b4ba17-6a4f-4b04-a14d-c8492646a7d5",
   "metadata": {},
   "outputs": [],
   "source": [
    "class Response(BaseModel):\n",
    "    answer: str = Field(description=\"the answer of the question\")\n",
    "    score: int = Field(description=\"the LLM evaluation score for the answer\")\n",
    "    justification: str = Field(description=\"the justification from LLM for the generated answer\")"
   ]
  },
  {
   "cell_type": "code",
   "execution_count": 33,
   "id": "d672f16b-3e49-451a-a3eb-bfc8a127a969",
   "metadata": {},
   "outputs": [],
   "source": [
    "parser = JsonOutputParser(pydantic_object=Response)"
   ]
  },
  {
   "cell_type": "code",
   "execution_count": 34,
   "id": "f0f4558a-b509-4b5c-ad4b-5dc0c7514521",
   "metadata": {},
   "outputs": [],
   "source": [
    "format_instruction = parser.get_format_instructions()"
   ]
  },
  {
   "cell_type": "code",
   "execution_count": 35,
   "id": "07891ed3-2a26-49e9-99b9-09e8bf93525d",
   "metadata": {},
   "outputs": [
    {
     "name": "stdout",
     "output_type": "stream",
     "text": [
      "The output should be formatted as a JSON instance that conforms to the JSON schema below.\n",
      "\n",
      "As an example, for the schema {\"properties\": {\"foo\": {\"title\": \"Foo\", \"description\": \"a list of strings\", \"type\": \"array\", \"items\": {\"type\": \"string\"}}}, \"required\": [\"foo\"]}\n",
      "the object {\"foo\": [\"bar\", \"baz\"]} is a well-formatted instance of the schema. The object {\"properties\": {\"foo\": [\"bar\", \"baz\"]}} is not well-formatted.\n",
      "\n",
      "Here is the output schema:\n",
      "```\n",
      "{\"properties\": {\"answer\": {\"title\": \"Answer\", \"description\": \"the answer of the question\", \"type\": \"string\"}, \"score\": {\"title\": \"Score\", \"description\": \"the LLM evaluation score for the answer\", \"type\": \"integer\"}, \"justification\": {\"title\": \"Justification\", \"description\": \"the justification from LLM for the generated answer\", \"type\": \"string\"}}, \"required\": [\"answer\", \"score\", \"justification\"]}\n",
      "```\n"
     ]
    }
   ],
   "source": [
    "print(format_instruction)"
   ]
  },
  {
   "cell_type": "code",
   "execution_count": 36,
   "id": "2b4fd2aa-0238-45f7-b6db-3792f3aac779",
   "metadata": {},
   "outputs": [],
   "source": [
    "template = \"\"\"\n",
    "Given the following context:\n",
    "{context}\n",
    "The question:\n",
    "{question}\n",
    "Answer the user query as json object with following three fields:\n",
    "1. answer: The answer to the question\n",
    "2. score: A score between 0 to 10\n",
    "3. justification: A justification from AI\n",
    "\"\"\""
   ]
  },
  {
   "cell_type": "code",
   "execution_count": 37,
   "id": "90754c7d-1105-4d52-8003-b576dfa82d22",
   "metadata": {},
   "outputs": [
    {
     "name": "stdout",
     "output_type": "stream",
     "text": [
      "An Overview of the AWS Cloud Adoption Framework\n",
      "AWS Whitepaper\n",
      "Point of contact\n",
      "• Dr. Saša Baškarada, Worldwide Lead, AWS Cloud Adoption Framework\n",
      "35\n",
      "An Overview of the AWS Cloud Adoption Framework\n",
      "AWS Whitepaper\n",
      "Also available on Audible, Kindle, and as an eBook.\n",
      "iv\n",
      "An Overview of the AWS Cloud Adoption Framework\n",
      "AWS Whitepaper\n",
      "Identify lead curators with responsibility for moderating the Data Catalog. In line with your \n",
      "data monetization strategy, catalog key data products, including structured and unstructured \n",
      "data. Identify and capture relevant technical and business metadata, including lineage. Leverage \n",
      "standard ontologies, business glossaries, and automation (including machine learning) to tag, \n",
      "index, and auto-classify data. Augment with manual tagging as necessary and appropriately \n",
      "handle any personally identiﬁable information (PII). Consider crowdsourcing data enrichment \n",
      "through social curation. In other words, consider empowering data consumers to rate, review, \n",
      "and annotate data products.\n",
      "21\n",
      "An Overview of the AWS Cloud Adoption Framework\n",
      "AWS Whitepaper\n",
      "People perspective: culture and change\n",
      "The people perspective serves as a bridge between technology and business, accelerating the cloud \n",
      "journey to help organizations more rapidly evolve to a culture of continuous growth, learning, \n",
      "and where change becomes business-as-normal, with focus on culture, organizational structure, \n",
      "leadership, and workforce. This perspective comprises seven capabilities shown in the following \n",
      "ﬁgure. Common stakeholders include CIO, COO, CTO, cloud director, and cross-functional and \n",
      "enterprise-wide leaders.\n",
      "AWS CAF People perspective capabilities\n",
      "• Culture evolution – Evaluate, incrementally evolve, and codify organizational culture with digital \n",
      "transformation aspirations, and best practices for agility, autonomy, clarity, and scalability. To \n",
      "succeed in digital transformation, you’ll need to leverage your heritage and core values, while \n",
      "you incorporate new behaviors and mindsets that attract, retain, and empower a workforce \n",
      "that’s invested in continuously improving and innovating on behalf of your customers. Maintain \n",
      "a long-term focus, obsess over customers, and boldly innovate to meet their needs. Institute \n",
      "an organization-wide approach to recognizing behaviors and goals for all roles that help shape \n",
      "your desired culture. Consider rapid experimentation, agile methodologies, and cross-functional \n",
      "teams to drive ownership and autonomy, enable rapid decision making, and minimize the need \n",
      "for excessive approvals or bureaucracy.\n",
      "• Transformational leadership – Strengthen your leadership capability and mobilize leaders to \n",
      "drive transformational change and enable outcome-focused, cross-functional decision making. \n",
      "To succeed with cloud transformation, your leaders must put as much focus on the people side \n",
      "of change as they do on technology, as without an eﬀective blend of technical and business \n",
      "leadership, your transformation may slow down or stall. Gain active and visible executive \n",
      "14\n",
      "An Overview of the AWS Cloud Adoption Framework\n",
      "AWS Whitepaper\n",
      "sponsorship from both technology and business functions, who will make critical decisions on \n",
      "strategy, vision, scope, and resources, and take actions in communication, coalition building, and \n",
      "holding teams accountable for results.\n",
      "At both the executive and program levels, ensure that your business and technology leaders \n",
      "co-develop, co-lead, and co-deliver culture change strategies. Conﬁrm that each layer of \n",
      "management delivers clear and consistent communications to align the organization on cloud \n",
      "value, priorities, and new behaviors. Consider evolving your cloud leadership function through \n",
      "a transformation oﬃce and/or a Cloud Center of Excellence (CCoE) to evangelize and drive \n",
      "your transformation eﬀorts with codiﬁed patterns for consistency and scalability. Incrementally \n",
      "evolve this function to meet your current needs as you progress through your transformation \n",
      "journey.\n",
      "• Cloud ﬂuency – Build digital acumen to conﬁdently and eﬀectively leverage cloud to accelerate \n",
      "business outcomes. The requirement for an exceptional workforce goes beyond adapting to \n",
      "a digital environment, and the greatest challenge is not the technology itself, but, rather, the \n",
      "ability to hire, develop, retain and motivate a talented, knowledgeable, proﬁcient, and high-\n",
      "performing workforce.\n",
      "Given the rapid pace of technological innovation, address your overall training strategy as it \n",
      "relates to timing, tooling, and technology training, and then assess your existing cloud skills to \n",
      "develop a targetedtraining strategy. Implement a skills guild to help you generate excitement \n",
      "and build momentum for your transformation journey. Champion data literacy, to advance talent \n",
      "skills and knowledge in data analytics. Combine virtual, classroom, experiential and just-in-\n",
      "time training, leverage immersion days, and validate skills with formal certiﬁcations. Implement \n",
      "mentoring, coaching, shadowing, and job rotation programs. Set up communities of practice \n",
      "that own speciﬁc domains of interest. Reward individuals for sharing knowledge, and formalize \n",
      "processes for knowledge elicitation, peer review, and ongoing curation.\n",
      "• Workforce transformation – Enable talent and modernize roles to attract, develop, and retain \n",
      "a digitally ﬂuent high-performing and adaptable workforce that can autonomously drive key \n",
      "capabilities. To succeed in your cloud transformation, take a proactive approach to talent \n",
      "enablement planning beyond traditional HR to include C-suite leadership, and modernize \n",
      "your approaches to leadership, learning, rewards, inclusion, performance management, career \n",
      "mobility, and hiring.\n",
      "You will need a diverse and inclusive workforce with the appropriate mix of technical and non-\n",
      "technical skills. Identify gaps in roles and skills across your entire organization and develop a \n",
      "workforce strategy that will improve your organizational cloud capability. Leverage talent with \n",
      "15\n"
     ]
    }
   ],
   "source": [
    "contexts = [d.page_content for d in knndocs]\n",
    "context = '\\n'.join(contexts)\n",
    "print(context)"
   ]
  },
  {
   "cell_type": "code",
   "execution_count": 48,
   "id": "9db10ca5-a2e6-4eed-9f89-15d08295f4ef",
   "metadata": {},
   "outputs": [],
   "source": [
    "prompt = PromptTemplate(\n",
    "    template=template,\n",
    "    input_variables=[\"context\", \"question\"],\n",
    "    partial_variables={\"format_instructions\": parser.get_format_instructions()},\n",
    "    output_parser=parser\n",
    ")"
   ]
  },
  {
   "cell_type": "code",
   "execution_count": 49,
   "id": "61e1a3d9-a9c4-4222-9b8d-7e13ff20cfb7",
   "metadata": {},
   "outputs": [
    {
     "name": "stdout",
     "output_type": "stream",
     "text": [
      "input_variables=['context', 'question'] output_parser=JsonOutputParser(pydantic_object=<class '__main__.Response'>) partial_variables={'format_instructions': 'The output should be formatted as a JSON instance that conforms to the JSON schema below.\\n\\nAs an example, for the schema {\"properties\": {\"foo\": {\"title\": \"Foo\", \"description\": \"a list of strings\", \"type\": \"array\", \"items\": {\"type\": \"string\"}}}, \"required\": [\"foo\"]}\\nthe object {\"foo\": [\"bar\", \"baz\"]} is a well-formatted instance of the schema. The object {\"properties\": {\"foo\": [\"bar\", \"baz\"]}} is not well-formatted.\\n\\nHere is the output schema:\\n```\\n{\"properties\": {\"answer\": {\"title\": \"Answer\", \"description\": \"the answer of the question\", \"type\": \"string\"}, \"score\": {\"title\": \"Score\", \"description\": \"the LLM evaluation score for the answer\", \"type\": \"integer\"}, \"justification\": {\"title\": \"Justification\", \"description\": \"the justification from LLM for the generated answer\", \"type\": \"string\"}}, \"required\": [\"answer\", \"score\", \"justification\"]}\\n```'} template='\\nGiven the following context:\\n{context}\\nThe question:\\n{question}\\nAnswer the user query as json object with following three fields:\\n1. answer: The answer to the question\\n2. score: A score between 0 to 10\\n3. justification: A justification from AI\\n'\n"
     ]
    }
   ],
   "source": [
    "print(prompt)"
   ]
  },
  {
   "cell_type": "code",
   "execution_count": 50,
   "id": "c3b0ca99-4844-4afc-a90d-2e562666f8b1",
   "metadata": {},
   "outputs": [],
   "source": [
    "verbose=True"
   ]
  },
  {
   "cell_type": "code",
   "execution_count": 51,
   "id": "fee3a540-6670-494e-99db-4cbff74a7606",
   "metadata": {},
   "outputs": [],
   "source": [
    "from langchain.chains import LLMChain\n",
    "chain = LLMChain(llm=model, prompt=prompt, verbose=True)"
   ]
  },
  {
   "cell_type": "code",
   "execution_count": 52,
   "id": "66a131ab-2fec-4a9b-9935-55f2c46cbd43",
   "metadata": {},
   "outputs": [
    {
     "name": "stdout",
     "output_type": "stream",
     "text": [
      "\n",
      "\n",
      "\u001b[1m> Entering new LLMChain chain...\u001b[0m\n",
      "Prompt after formatting:\n",
      "\u001b[32;1m\u001b[1;3m\n",
      "Given the following context:\n",
      "An Overview of the AWS Cloud Adoption Framework\n",
      "AWS Whitepaper\n",
      "Point of contact\n",
      "• Dr. Saša Baškarada, Worldwide Lead, AWS Cloud Adoption Framework\n",
      "35\n",
      "An Overview of the AWS Cloud Adoption Framework\n",
      "AWS Whitepaper\n",
      "Also available on Audible, Kindle, and as an eBook.\n",
      "iv\n",
      "An Overview of the AWS Cloud Adoption Framework\n",
      "AWS Whitepaper\n",
      "Identify lead curators with responsibility for moderating the Data Catalog. In line with your \n",
      "data monetization strategy, catalog key data products, including structured and unstructured \n",
      "data. Identify and capture relevant technical and business metadata, including lineage. Leverage \n",
      "standard ontologies, business glossaries, and automation (including machine learning) to tag, \n",
      "index, and auto-classify data. Augment with manual tagging as necessary and appropriately \n",
      "handle any personally identiﬁable information (PII). Consider crowdsourcing data enrichment \n",
      "through social curation. In other words, consider empowering data consumers to rate, review, \n",
      "and annotate data products.\n",
      "21\n",
      "An Overview of the AWS Cloud Adoption Framework\n",
      "AWS Whitepaper\n",
      "People perspective: culture and change\n",
      "The people perspective serves as a bridge between technology and business, accelerating the cloud \n",
      "journey to help organizations more rapidly evolve to a culture of continuous growth, learning, \n",
      "and where change becomes business-as-normal, with focus on culture, organizational structure, \n",
      "leadership, and workforce. This perspective comprises seven capabilities shown in the following \n",
      "ﬁgure. Common stakeholders include CIO, COO, CTO, cloud director, and cross-functional and \n",
      "enterprise-wide leaders.\n",
      "AWS CAF People perspective capabilities\n",
      "• Culture evolution – Evaluate, incrementally evolve, and codify organizational culture with digital \n",
      "transformation aspirations, and best practices for agility, autonomy, clarity, and scalability. To \n",
      "succeed in digital transformation, you’ll need to leverage your heritage and core values, while \n",
      "you incorporate new behaviors and mindsets that attract, retain, and empower a workforce \n",
      "that’s invested in continuously improving and innovating on behalf of your customers. Maintain \n",
      "a long-term focus, obsess over customers, and boldly innovate to meet their needs. Institute \n",
      "an organization-wide approach to recognizing behaviors and goals for all roles that help shape \n",
      "your desired culture. Consider rapid experimentation, agile methodologies, and cross-functional \n",
      "teams to drive ownership and autonomy, enable rapid decision making, and minimize the need \n",
      "for excessive approvals or bureaucracy.\n",
      "• Transformational leadership – Strengthen your leadership capability and mobilize leaders to \n",
      "drive transformational change and enable outcome-focused, cross-functional decision making. \n",
      "To succeed with cloud transformation, your leaders must put as much focus on the people side \n",
      "of change as they do on technology, as without an eﬀective blend of technical and business \n",
      "leadership, your transformation may slow down or stall. Gain active and visible executive \n",
      "14\n",
      "An Overview of the AWS Cloud Adoption Framework\n",
      "AWS Whitepaper\n",
      "sponsorship from both technology and business functions, who will make critical decisions on \n",
      "strategy, vision, scope, and resources, and take actions in communication, coalition building, and \n",
      "holding teams accountable for results.\n",
      "At both the executive and program levels, ensure that your business and technology leaders \n",
      "co-develop, co-lead, and co-deliver culture change strategies. Conﬁrm that each layer of \n",
      "management delivers clear and consistent communications to align the organization on cloud \n",
      "value, priorities, and new behaviors. Consider evolving your cloud leadership function through \n",
      "a transformation oﬃce and/or a Cloud Center of Excellence (CCoE) to evangelize and drive \n",
      "your transformation eﬀorts with codiﬁed patterns for consistency and scalability. Incrementally \n",
      "evolve this function to meet your current needs as you progress through your transformation \n",
      "journey.\n",
      "• Cloud ﬂuency – Build digital acumen to conﬁdently and eﬀectively leverage cloud to accelerate \n",
      "business outcomes. The requirement for an exceptional workforce goes beyond adapting to \n",
      "a digital environment, and the greatest challenge is not the technology itself, but, rather, the \n",
      "ability to hire, develop, retain and motivate a talented, knowledgeable, proﬁcient, and high-\n",
      "performing workforce.\n",
      "Given the rapid pace of technological innovation, address your overall training strategy as it \n",
      "relates to timing, tooling, and technology training, and then assess your existing cloud skills to \n",
      "develop a targetedtraining strategy. Implement a skills guild to help you generate excitement \n",
      "and build momentum for your transformation journey. Champion data literacy, to advance talent \n",
      "skills and knowledge in data analytics. Combine virtual, classroom, experiential and just-in-\n",
      "time training, leverage immersion days, and validate skills with formal certiﬁcations. Implement \n",
      "mentoring, coaching, shadowing, and job rotation programs. Set up communities of practice \n",
      "that own speciﬁc domains of interest. Reward individuals for sharing knowledge, and formalize \n",
      "processes for knowledge elicitation, peer review, and ongoing curation.\n",
      "• Workforce transformation – Enable talent and modernize roles to attract, develop, and retain \n",
      "a digitally ﬂuent high-performing and adaptable workforce that can autonomously drive key \n",
      "capabilities. To succeed in your cloud transformation, take a proactive approach to talent \n",
      "enablement planning beyond traditional HR to include C-suite leadership, and modernize \n",
      "your approaches to leadership, learning, rewards, inclusion, performance management, career \n",
      "mobility, and hiring.\n",
      "You will need a diverse and inclusive workforce with the appropriate mix of technical and non-\n",
      "technical skills. Identify gaps in roles and skills across your entire organization and develop a \n",
      "workforce strategy that will improve your organizational cloud capability. Leverage talent with \n",
      "15\n",
      "The question:\n",
      "List all the features provided by AWS on security governance?\n",
      "Answer the user query as json object with following three fields:\n",
      "1. answer: The answer to the question\n",
      "2. score: A score between 0 to 10\n",
      "3. justification: A justification from AI\n",
      "\u001b[0m\n"
     ]
    },
    {
     "name": "stderr",
     "output_type": "stream",
     "text": [
      "INFO:httpx:HTTP Request: POST https://api.openai.com/v1/chat/completions \"HTTP/1.1 200 OK\"\n"
     ]
    },
    {
     "name": "stdout",
     "output_type": "stream",
     "text": [
      "\n",
      "\u001b[1m> Finished chain.\u001b[0m\n"
     ]
    }
   ],
   "source": [
    "result = chain.invoke({\"question\": query, \"context\": context})"
   ]
  },
  {
   "cell_type": "code",
   "execution_count": 53,
   "id": "3f0072c8-3c4d-49a3-8731-bb9d4c33b37e",
   "metadata": {},
   "outputs": [
    {
     "name": "stdout",
     "output_type": "stream",
     "text": [
      "{'question': 'List all the features provided by AWS on security governance?', 'context': 'An Overview of the AWS Cloud Adoption Framework\\nAWS Whitepaper\\nPoint of contact\\n• Dr. Saša Baškarada, Worldwide Lead, AWS Cloud Adoption Framework\\n35\\nAn Overview of the AWS Cloud Adoption Framework\\nAWS Whitepaper\\nAlso available on Audible, Kindle, and as an eBook.\\niv\\nAn Overview of the AWS Cloud Adoption Framework\\nAWS Whitepaper\\nIdentify lead curators with responsibility for moderating the Data Catalog. In line with your \\ndata monetization strategy, catalog key data products, including structured and unstructured \\ndata. Identify and capture relevant technical and business metadata, including lineage. Leverage \\nstandard ontologies, business glossaries, and automation (including machine learning) to tag, \\nindex, and auto-classify data. Augment with manual tagging as necessary and appropriately \\nhandle any personally identiﬁable information (PII). Consider crowdsourcing data enrichment \\nthrough social curation. In other words, consider empowering data consumers to rate, review, \\nand annotate data products.\\n21\\nAn Overview of the AWS Cloud Adoption Framework\\nAWS Whitepaper\\nPeople perspective: culture and change\\nThe people perspective serves as a bridge between technology and business, accelerating the cloud \\njourney to help organizations more rapidly evolve to a culture of continuous growth, learning, \\nand where change becomes business-as-normal, with focus on culture, organizational structure, \\nleadership, and workforce. This perspective comprises seven capabilities shown in the following \\nﬁgure. Common stakeholders include CIO, COO, CTO, cloud director, and cross-functional and \\nenterprise-wide leaders.\\nAWS CAF People perspective capabilities\\n• Culture evolution – Evaluate, incrementally evolve, and codify organizational culture with digital \\ntransformation aspirations, and best practices for agility, autonomy, clarity, and scalability. To \\nsucceed in digital transformation, you’ll need to leverage your heritage and core values, while \\nyou incorporate new behaviors and mindsets that attract, retain, and empower a workforce \\nthat’s invested in continuously improving and innovating on behalf of your customers. Maintain \\na long-term focus, obsess over customers, and boldly innovate to meet their needs. Institute \\nan organization-wide approach to recognizing behaviors and goals for all roles that help shape \\nyour desired culture. Consider rapid experimentation, agile methodologies, and cross-functional \\nteams to drive ownership and autonomy, enable rapid decision making, and minimize the need \\nfor excessive approvals or bureaucracy.\\n• Transformational leadership – Strengthen your leadership capability and mobilize leaders to \\ndrive transformational change and enable outcome-focused, cross-functional decision making. \\nTo succeed with cloud transformation, your leaders must put as much focus on the people side \\nof change as they do on technology, as without an eﬀective blend of technical and business \\nleadership, your transformation may slow down or stall. Gain active and visible executive \\n14\\nAn Overview of the AWS Cloud Adoption Framework\\nAWS Whitepaper\\nsponsorship from both technology and business functions, who will make critical decisions on \\nstrategy, vision, scope, and resources, and take actions in communication, coalition building, and \\nholding teams accountable for results.\\nAt both the executive and program levels, ensure that your business and technology leaders \\nco-develop, co-lead, and co-deliver culture change strategies. Conﬁrm that each layer of \\nmanagement delivers clear and consistent communications to align the organization on cloud \\nvalue, priorities, and new behaviors. Consider evolving your cloud leadership function through \\na transformation oﬃce and/or a Cloud Center of Excellence (CCoE) to evangelize and drive \\nyour transformation eﬀorts with codiﬁed patterns for consistency and scalability. Incrementally \\nevolve this function to meet your current needs as you progress through your transformation \\njourney.\\n• Cloud ﬂuency – Build digital acumen to conﬁdently and eﬀectively leverage cloud to accelerate \\nbusiness outcomes. The requirement for an exceptional workforce goes beyond adapting to \\na digital environment, and the greatest challenge is not the technology itself, but, rather, the \\nability to hire, develop, retain and motivate a talented, knowledgeable, proﬁcient, and high-\\nperforming workforce.\\nGiven the rapid pace of technological innovation, address your overall training strategy as it \\nrelates to timing, tooling, and technology training, and then assess your existing cloud skills to \\ndevelop a targetedtraining strategy. Implement a skills guild to help you generate excitement \\nand build momentum for your transformation journey. Champion data literacy, to advance talent \\nskills and knowledge in data analytics. Combine virtual, classroom, experiential and just-in-\\ntime training, leverage immersion days, and validate skills with formal certiﬁcations. Implement \\nmentoring, coaching, shadowing, and job rotation programs. Set up communities of practice \\nthat own speciﬁc domains of interest. Reward individuals for sharing knowledge, and formalize \\nprocesses for knowledge elicitation, peer review, and ongoing curation.\\n• Workforce transformation – Enable talent and modernize roles to attract, develop, and retain \\na digitally ﬂuent high-performing and adaptable workforce that can autonomously drive key \\ncapabilities. To succeed in your cloud transformation, take a proactive approach to talent \\nenablement planning beyond traditional HR to include C-suite leadership, and modernize \\nyour approaches to leadership, learning, rewards, inclusion, performance management, career \\nmobility, and hiring.\\nYou will need a diverse and inclusive workforce with the appropriate mix of technical and non-\\ntechnical skills. Identify gaps in roles and skills across your entire organization and develop a \\nworkforce strategy that will improve your organizational cloud capability. Leverage talent with \\n15', 'text': '{\\n\"answer\": \"The provided text does not contain specific information on the features provided by AWS on security governance.\",\\n\"score\": 0,\\n\"justification\": \"The provided text primarily discusses the AWS Cloud Adoption Framework, data cataloging, and people perspective in terms of culture and change. It does not provide any specific details or features related to AWS security governance.\"\\n}'}\n"
     ]
    }
   ],
   "source": [
    "print(result)"
   ]
  },
  {
   "cell_type": "code",
   "execution_count": null,
   "id": "d7bd8633-198b-4777-a643-f614c6fa6192",
   "metadata": {},
   "outputs": [],
   "source": []
  }
 ],
 "metadata": {
  "kernelspec": {
   "display_name": "Python 3 (ipykernel)",
   "language": "python",
   "name": "python3"
  },
  "language_info": {
   "codemirror_mode": {
    "name": "ipython",
    "version": 3
   },
   "file_extension": ".py",
   "mimetype": "text/x-python",
   "name": "python",
   "nbconvert_exporter": "python",
   "pygments_lexer": "ipython3",
   "version": "3.12.3"
  }
 },
 "nbformat": 4,
 "nbformat_minor": 5
}
