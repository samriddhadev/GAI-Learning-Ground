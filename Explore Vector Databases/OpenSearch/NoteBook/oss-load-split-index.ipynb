{
 "cells": [
  {
   "cell_type": "markdown",
   "id": "87131711-0f7f-46ab-b5bb-34b82b65065a",
   "metadata": {},
   "source": [
    "# Initialization"
   ]
  },
  {
   "cell_type": "code",
   "execution_count": 2,
   "id": "48ae6dad-fa15-4994-8627-14373c3b804f",
   "metadata": {},
   "outputs": [],
   "source": [
    "import os\n",
    "import logging\n",
    "os.environ['SOURCE_FILE']='C:/workspace/experiments/GenAI/Projects/Test Data/aws.pdf'\n",
    "logger = logging.getLogger(__name__)\n",
    "logging.basicConfig(level=logging.INFO)"
   ]
  },
  {
   "cell_type": "markdown",
   "id": "3e4651fb-2d01-4a51-b756-9cddbed43d0f",
   "metadata": {},
   "source": [
    "# Load data from source"
   ]
  },
  {
   "cell_type": "code",
   "execution_count": 3,
   "id": "506b1fe5-35a5-4617-86f5-327a5859d129",
   "metadata": {},
   "outputs": [
    {
     "name": "stderr",
     "output_type": "stream",
     "text": [
      "INFO:__main__:loading file: C:/workspace/experiments/GenAI/Projects/Test Data/aws.pdf\n"
     ]
    }
   ],
   "source": [
    "from langchain_community.document_loaders import PyMuPDFLoader\n",
    "f = os.getenv('SOURCE_FILE')\n",
    "logger.info(f\"loading file: {f}\")\n",
    "loader = PyMuPDFLoader(f)\n",
    "docs = loader.load()"
   ]
  },
  {
   "cell_type": "markdown",
   "id": "fac84665-cef2-4bfc-a952-ab5c2adc6ec0",
   "metadata": {},
   "source": [
    "# Split data"
   ]
  },
  {
   "cell_type": "code",
   "execution_count": 4,
   "id": "e2de42a1-418f-4a23-962d-9aedca143f46",
   "metadata": {},
   "outputs": [],
   "source": [
    "from langchain.text_splitter import CharacterTextSplitter\n",
    "text_splitter = CharacterTextSplitter(chunk_size=256, chunk_overlap=100)\n",
    "transformed_docs = text_splitter.split_documents(docs)"
   ]
  },
  {
   "cell_type": "markdown",
   "id": "49ef63b4-9a9f-4fcc-b2a4-afe4e22efd23",
   "metadata": {},
   "source": [
    "# Extract terms from chunks and save as metadata"
   ]
  },
  {
   "cell_type": "code",
   "execution_count": 5,
   "id": "c5bca569-c811-4c16-ba76-396733add517",
   "metadata": {},
   "outputs": [
    {
     "name": "stderr",
     "output_type": "stream",
     "text": [
      "[nltk_data] Downloading package stopwords to\n",
      "[nltk_data]     C:\\Users\\samriddha\\AppData\\Roaming\\nltk_data...\n",
      "[nltk_data]   Package stopwords is already up-to-date!\n",
      "[nltk_data] Downloading package punkt to\n",
      "[nltk_data]     C:\\Users\\samriddha\\AppData\\Roaming\\nltk_data...\n",
      "[nltk_data]   Package punkt is already up-to-date!\n",
      "INFO:__main__:total chunks - 42\n"
     ]
    }
   ],
   "source": [
    "from langchain.schema.document import Document\n",
    "import nltk\n",
    "from rake_nltk import Rake\n",
    "\n",
    "nltk.download('stopwords')\n",
    "nltk.download('punkt')\n",
    "r = Rake()\n",
    "transformed_docs_with_terms = []\n",
    "\n",
    "for doc in transformed_docs:\n",
    "    r.extract_keywords_from_text(doc.page_content)\n",
    "    keywords = r.get_ranked_phrases()\n",
    "    transformed_docs_with_terms.append(Document(page_content=doc.page_content, metadata={**doc.metadata, 'file_name': os.path.basename(doc.metadata['file_path']), 'terms': keywords}))\n",
    "\n",
    "logger.info(f\"total chunks - {len(transformed_docs_with_terms)}\")"
   ]
  },
  {
   "cell_type": "markdown",
   "id": "48acf99a-2651-42fe-845d-c9dbc27c39ee",
   "metadata": {},
   "source": [
    "# Initialize embedding function"
   ]
  },
  {
   "cell_type": "code",
   "execution_count": 6,
   "id": "22d35cf2-6caa-4eb0-b2a4-0a75911ee22c",
   "metadata": {},
   "outputs": [],
   "source": [
    "from langchain_openai import OpenAIEmbeddings\n",
    "embeddings = OpenAIEmbeddings(openai_api_key=os.getenv('OPENAI_API_KEY'), model=\"text-embedding-ada-002\")"
   ]
  },
  {
   "cell_type": "markdown",
   "id": "9357dddd-d304-4146-b4ad-e07c1507a20c",
   "metadata": {},
   "source": [
    "# Create OpenSearch Index"
   ]
  },
  {
   "cell_type": "code",
   "execution_count": 7,
   "id": "e4e36a9c-9b0e-4332-af7b-106c07215200",
   "metadata": {},
   "outputs": [],
   "source": [
    "mappings = {\n",
    "    \"properties\": {\n",
    "        \"id\": {\n",
    "            \"type\": \"text\"\n",
    "        },\n",
    "        \"file_name\": {\n",
    "            \"type\": \"keyword\"\n",
    "        },\n",
    "        \"vector_field\": {\n",
    "            \"type\": \"knn_vector\",\n",
    "            \"dimension\": 1536,\n",
    "            \"method\": {\n",
    "                \"engine\": \"nmslib\",\n",
    "                \"space_type\": \"l2\",\n",
    "                \"name\": \"hnsw\",\n",
    "                \"parameters\": {\n",
    "                  \"ef_construction\": 512,\n",
    "                  \"m\": 16\n",
    "                }\n",
    "            }\n",
    "        },\n",
    "        \"bert_embeddings\": {\n",
    "            \"type\": \"knn_vector\",\n",
    "            \"dimension\": 768,\n",
    "            \"method\": {\n",
    "                \"engine\": \"lucene\",\n",
    "                \"space_type\": \"l2\",\n",
    "                \"name\": \"hnsw\",\n",
    "                \"parameters\": {}\n",
    "            }\n",
    "        },\n",
    "        \"oss_sparse_embeddings\": {\n",
    "            \"type\": \"rank_features\"\n",
    "        },\n",
    "        \"text\": {\n",
    "            \"type\": \"text\"\n",
    "        },\n",
    "        \"terms\": {\n",
    "            \"type\": \"text\"\n",
    "        }\n",
    "    }\n",
    "}\n"
   ]
  },
  {
   "cell_type": "code",
   "execution_count": 9,
   "id": "46537f8d-ade6-4a1c-b443-3f7ff782169d",
   "metadata": {},
   "outputs": [
    {
     "name": "stderr",
     "output_type": "stream",
     "text": [
      "INFO:opensearch:PUT http://localhost:9200/aws-idx [status:200 request:1.191s]\n",
      "INFO:__main__:{'acknowledged': True, 'shards_acknowledged': True, 'index': 'aws-idx'}\n"
     ]
    }
   ],
   "source": [
    "from opensearchpy import OpenSearch\n",
    "from uuid import uuid4\n",
    "import time\n",
    "\n",
    "host = 'localhost'\n",
    "port = 9200\n",
    "auth = ('admin', 'Severus11#')\n",
    "\n",
    "index_name = 'aws-idx'\n",
    "index_body = {\n",
    "  \"settings\": {\n",
    "    \"index.knn\": True,\n",
    "    \"default_pipeline\": \"proof_of_concept_pipeline\"\n",
    "  },\n",
    "  \"mappings\": mappings\n",
    "}\n",
    "\n",
    "client = OpenSearch(\n",
    "    hosts = [{'host': host, 'port': port}],\n",
    "    http_compress = True, # enables gzip compression for request bodies\n",
    "    use_ssl = False,\n",
    "    verify_certs = False,\n",
    "    ssl_assert_hostname = False,\n",
    "    ssl_show_warn = False\n",
    ")\n",
    "response = client.indices.create(index_name, body=index_body)\n",
    "logger.info(response)"
   ]
  },
  {
   "cell_type": "markdown",
   "id": "d7f4f369-e915-45d8-a3e9-0ecb0e60c016",
   "metadata": {},
   "source": [
    "# Load data to OpenSearch Vector Store"
   ]
  },
  {
   "cell_type": "code",
   "execution_count": 10,
   "id": "39808582-49d5-4fd7-a71a-d9eaaf858b74",
   "metadata": {},
   "outputs": [
    {
     "name": "stderr",
     "output_type": "stream",
     "text": [
      "INFO:httpx:HTTP Request: POST https://api.openai.com/v1/embeddings \"HTTP/1.1 200 OK\"\n",
      "INFO:opensearch:GET http://localhost:9200/aws-idx [status:200 request:0.028s]\n",
      "INFO:opensearch:POST http://localhost:9200/_bulk [status:200 request:60.571s]\n",
      "INFO:opensearch:POST http://localhost:9200/_bulk [status:200 request:22.195s]\n",
      "INFO:opensearch:POST http://localhost:9200/aws-idx/_refresh [status:200 request:0.327s]\n"
     ]
    },
    {
     "data": {
      "text/plain": [
       "<langchain_community.vectorstores.opensearch_vector_search.OpenSearchVectorSearch at 0x21aeef3f140>"
      ]
     },
     "execution_count": 10,
     "metadata": {},
     "output_type": "execute_result"
    }
   ],
   "source": [
    "from langchain_community.vectorstores import OpenSearchVectorSearch\n",
    "OpenSearchVectorSearch.from_documents(\n",
    "    transformed_docs_with_terms,\n",
    "    embeddings,\n",
    "    index_name=\"aws-idx\",\n",
    "    opensearch_url=\"http://localhost:9200\",\n",
    "    http_auth=(\"admin\", \"Severus11#\"),\n",
    "    use_ssl = False,\n",
    "    verify_certs = False,\n",
    "    timeout=300,\n",
    "    ssl_assert_hostname = False,\n",
    "    ssl_show_warn = False,\n",
    ")"
   ]
  },
  {
   "cell_type": "code",
   "execution_count": null,
   "id": "5c03cb8e-871d-41e4-b32b-f4b7236f7ef9",
   "metadata": {},
   "outputs": [],
   "source": []
  }
 ],
 "metadata": {
  "kernelspec": {
   "display_name": "Python 3 (ipykernel)",
   "language": "python",
   "name": "python3"
  },
  "language_info": {
   "codemirror_mode": {
    "name": "ipython",
    "version": 3
   },
   "file_extension": ".py",
   "mimetype": "text/x-python",
   "name": "python",
   "nbconvert_exporter": "python",
   "pygments_lexer": "ipython3",
   "version": "3.12.3"
  }
 },
 "nbformat": 4,
 "nbformat_minor": 5
}
