{
 "cells": [
  {
   "cell_type": "markdown",
   "id": "21be664d-7ffc-4725-bc92-a008c75549b3",
   "metadata": {},
   "source": [
    "# Deploy ML Model in OSS"
   ]
  },
  {
   "cell_type": "code",
   "execution_count": 22,
   "id": "0d6b2131-6dc6-439b-84a1-6d2ad5785a23",
   "metadata": {},
   "outputs": [],
   "source": [
    "import os\n",
    "import logging\n",
    "\n",
    "logger = logging.getLogger(__name__)\n",
    "logging.basicConfig(level=logging.INFO)"
   ]
  },
  {
   "cell_type": "code",
   "execution_count": 23,
   "id": "df216972-213f-449d-a023-cc6dbc1ae9a6",
   "metadata": {},
   "outputs": [],
   "source": [
    "import requests\n",
    "import json\n",
    "\n",
    "def make_requests(protocol, host, port, path, method, body=None, header=None):\n",
    "    try:\n",
    "        response = None\n",
    "        url = f\"{protocol}://{host}:{port}{path}\"\n",
    "        if method == 'GET':\n",
    "            response = requests.get(url, headers=header)\n",
    "        if method == 'POST':\n",
    "            response = requests.post(url, data=json.dumps(body), headers=header)\n",
    "        if method == 'PUT':\n",
    "            response = requests.put(url, data=json.dumps(body), headers=header)\n",
    "        if method == 'DELETE':\n",
    "            response = requests.delete(url, headers=header)\n",
    "        return response\n",
    "    except Exception as ex:\n",
    "        logger.error(f\"exception: {str(ex)}\")\n",
    "        raise ex"
   ]
  },
  {
   "cell_type": "code",
   "execution_count": 24,
   "id": "da10702a-768a-4d93-8d7c-58b4316887ed",
   "metadata": {},
   "outputs": [],
   "source": [
    "protocol = 'http'\n",
    "host = 'localhost'\n",
    "port = 9200\n",
    "\n",
    "header = {\n",
    "    'Content-Type': 'application/json'\n",
    "}"
   ]
  },
  {
   "cell_type": "markdown",
   "id": "5278c8da-325a-41e3-8ecb-0bcbe61e4e01",
   "metadata": {},
   "source": [
    "# Arguments"
   ]
  },
  {
   "cell_type": "code",
   "execution_count": 25,
   "id": "0659b78d-6df6-4632-8963-980cfa9d0ea6",
   "metadata": {},
   "outputs": [],
   "source": [
    "MODEL_GROUP = \"proof_of_concepts_model_group\"\n",
    "MODEL_GROUP_DESCRIPTION = \"proof_of_concepts_model_group\"\n",
    "MODELS = [\n",
    "    {\n",
    "        \"MODEL_NAME\":\"huggingface/sentence-transformers/msmarco-distilbert-base-tas-b\",\n",
    "        \"MODEL_VERSION\":\"1.0.2\",\n",
    "        \"MODEL_FORMAT\":\"TORCH_SCRIPT\",\n",
    "        \"MODEL_TYPE\": \"dense\"\n",
    "    },\n",
    "    {\n",
    "        \"MODEL_NAME\":\"amazon/neural-sparse/opensearch-neural-sparse-encoding-v1\",\n",
    "        \"MODEL_VERSION\":\"1.0.1\",\n",
    "        \"MODEL_FORMAT\":\"TORCH_SCRIPT\",\n",
    "        \"MODEL_TYPE\": \"sparse\"\n",
    "    }\n",
    "]\n",
    "\n",
    "PIPELINE_NAME = \"proof_of_concept_pipeline\"\n",
    "FIELD_MAP = {\n",
    "    \"huggingface/sentence-transformers/msmarco-distilbert-base-tas-b\": \"bert_embeddings\",\n",
    "    \"amazon/neural-sparse/opensearch-neural-sparse-encoding-v1\": \"oss_sparse_embeddings\"\n",
    "}"
   ]
  },
  {
   "cell_type": "markdown",
   "id": "2763783c-894e-4270-8b36-130b37a78f99",
   "metadata": {},
   "source": [
    "# Set Cluster Settings"
   ]
  },
  {
   "cell_type": "code",
   "execution_count": 26,
   "id": "136575e6-29e6-436a-8c9c-0fd42cfe3451",
   "metadata": {},
   "outputs": [
    {
     "name": "stderr",
     "output_type": "stream",
     "text": [
      "INFO:__main__:SET_CLUSTER_SETTINGS response: 200 body: {'acknowledged': True, 'persistent': {'plugins': {'ml_commons': {'only_run_on_ml_node': 'false', 'model_access_control_enabled': 'true', 'native_memory_threshold': '99'}}}, 'transient': {'plugins': {'ml_commons': {'model_access_control_enabled': 'true'}}}}\n"
     ]
    }
   ],
   "source": [
    "SET_CLUSTER_SETTINGS_PATH = \"/_cluster/settings\"\n",
    "SET_CLUSTER_SETTINGS_BODY = {\n",
    "  \"persistent\": {\n",
    "    \"plugins\": {\n",
    "      \"ml_commons\": {\n",
    "        \"only_run_on_ml_node\": \"false\",\n",
    "        \"model_access_control_enabled\": \"true\",\n",
    "        \"native_memory_threshold\": \"99\"\n",
    "      }\n",
    "    }\n",
    "  },\n",
    "  \"transient\": {\n",
    "    \"plugins.ml_commons.model_access_control_enabled\": \"true\"\n",
    "  }\n",
    "}\n",
    "\n",
    "response = make_requests(protocol, host, port, SET_CLUSTER_SETTINGS_PATH, 'PUT', body=SET_CLUSTER_SETTINGS_BODY, header=header)\n",
    "logger.info(f\"SET_CLUSTER_SETTINGS response: {response.status_code} body: {response.json()}\")"
   ]
  },
  {
   "cell_type": "markdown",
   "id": "a480c8d5-16de-40bd-8844-7608c23cc16a",
   "metadata": {},
   "source": [
    "# Register Model Group"
   ]
  },
  {
   "cell_type": "code",
   "execution_count": 27,
   "id": "93f77423-225d-4d6a-95cb-6f1c40bf8977",
   "metadata": {},
   "outputs": [
    {
     "name": "stderr",
     "output_type": "stream",
     "text": [
      "INFO:__main__:REGISTER_MODEL_GROUP response: 200 body: {'model_group_id': 'ZsBUIZABJGEOAwdvIoqf', 'status': 'CREATED'}\n"
     ]
    }
   ],
   "source": [
    "REGISTER_MODEL_GROUP_PATH = \"/_plugins/_ml/model_groups/_register\"\n",
    "REGISTER_MODEL_GROUP_BODY = {\n",
    "  \"name\": MODEL_GROUP,\n",
    "  \"description\": MODEL_GROUP_DESCRIPTION\n",
    "}\n",
    "\n",
    "response = make_requests(protocol, host, port, REGISTER_MODEL_GROUP_PATH, 'POST', body=REGISTER_MODEL_GROUP_BODY, header=header)\n",
    "logger.info(f\"REGISTER_MODEL_GROUP response: {response.status_code} body: {response.json()}\")\n",
    "MODEL_GROUP_ID = response.json()['model_group_id']"
   ]
  },
  {
   "cell_type": "code",
   "execution_count": 28,
   "id": "5991e9d9-b75b-4f62-8708-50d6bc3e1955",
   "metadata": {},
   "outputs": [
    {
     "name": "stderr",
     "output_type": "stream",
     "text": [
      "INFO:__main__:TEST_MODEL_GROUP response: 200 body: {'took': 46, 'timed_out': False, '_shards': {'total': 1, 'successful': 1, 'skipped': 0, 'failed': 0}, 'hits': {'total': {'value': 1, 'relation': 'eq'}, 'max_score': 1.0, 'hits': [{'_index': '.plugins-ml-model-group', '_id': 'ZsBUIZABJGEOAwdvIoqf', '_version': 1, '_seq_no': 16, '_primary_term': 3, '_score': 1.0, '_source': {'created_time': 1718546080397, 'access': 'public', 'latest_version': 0, 'last_updated_time': 1718546080397, 'name': 'proof_of_concepts_model_group', 'description': 'proof_of_concepts_model_group'}}]}}\n"
     ]
    }
   ],
   "source": [
    "TEST_MODEL_GROUP_PATH = \"/_plugins/_ml/model_groups/_search\"\n",
    "TEST_MODEL_GROUP_BODY = {\n",
    "  \"query\": {\n",
    "    \"match\": {\n",
    "      \"_id\": MODEL_GROUP_ID\n",
    "    }\n",
    "  }\n",
    "}\n",
    "response = make_requests(protocol, host, port, TEST_MODEL_GROUP_PATH, 'POST', body=TEST_MODEL_GROUP_BODY, header=header)\n",
    "logger.info(f\"TEST_MODEL_GROUP response: {response.status_code} body: {response.json()}\")"
   ]
  },
  {
   "cell_type": "markdown",
   "id": "be97d781-7c98-43a0-a0ad-24cc8f3b21e0",
   "metadata": {},
   "source": [
    "# Register Model"
   ]
  },
  {
   "cell_type": "code",
   "execution_count": 29,
   "id": "651f90b7-d7fb-423c-9d87-6fb761e5413d",
   "metadata": {},
   "outputs": [
    {
     "name": "stderr",
     "output_type": "stream",
     "text": [
      "INFO:__main__:REGISTER_MODEL response: 200 body: {'task_id': 'Z8BUIZABJGEOAwdvRoqM', 'status': 'CREATED'}\n",
      "INFO:__main__:REGISTER_MODEL response: 200 body: {'task_id': 'aMBUIZABJGEOAwdvR4oZ', 'status': 'CREATED'}\n",
      "INFO:__main__:task ids ['Z8BUIZABJGEOAwdvRoqM', 'aMBUIZABJGEOAwdvR4oZ']\n"
     ]
    }
   ],
   "source": [
    "MODEL_TASK_IDS = []\n",
    "\n",
    "for m in MODELS:\n",
    "    REGISTER_MODEL_PATH = \"/_plugins/_ml/models/_register\"\n",
    "    REGISTER_MODEL_BODY = {\n",
    "      \"name\": m['MODEL_NAME'],\n",
    "      \"version\": m['MODEL_VERSION'],\n",
    "      \"model_group_id\": MODEL_GROUP_ID,\n",
    "      \"model_format\": m['MODEL_FORMAT']\n",
    "    }\n",
    "    \n",
    "    response = make_requests(protocol, host, port, REGISTER_MODEL_PATH, 'POST', body=REGISTER_MODEL_BODY, header=header)\n",
    "    logger.info(f\"REGISTER_MODEL response: {response.status_code} body: {response.json()}\")\n",
    "    MODEL_TASK_IDS.append(response.json()['task_id'])\n",
    "\n",
    "logger.info(f\"task ids {MODEL_TASK_IDS}\")"
   ]
  },
  {
   "cell_type": "code",
   "execution_count": 32,
   "id": "bc4c184d-1fda-44b8-a192-c84cd0ac43d9",
   "metadata": {},
   "outputs": [
    {
     "name": "stderr",
     "output_type": "stream",
     "text": [
      "INFO:__main__:TEST_MODEL response: 200 body: {'model_id': 'acBUIZABJGEOAwdvUors', 'task_type': 'REGISTER_MODEL', 'function_name': 'TEXT_EMBEDDING', 'state': 'COMPLETED', 'worker_node': ['kRpi4hWvRbS-9fJxZ85iEQ'], 'create_time': 1718546089608, 'last_update_time': 1718546185827, 'is_async': True}\n",
      "INFO:__main__:TEST_MODEL response: 200 body: {'model_id': 'asBUIZABJGEOAwdvU4oe', 'task_type': 'REGISTER_MODEL', 'function_name': 'SPARSE_ENCODING', 'state': 'COMPLETED', 'worker_node': ['kRpi4hWvRbS-9fJxZ85iEQ'], 'create_time': 1718546089752, 'last_update_time': 1718546207223, 'is_async': True}\n",
      "INFO:__main__:model ids ['acBUIZABJGEOAwdvUors', 'asBUIZABJGEOAwdvU4oe']\n"
     ]
    }
   ],
   "source": [
    "MODEL_IDS = []\n",
    "MODEL_ID_MAP = {}\n",
    "for idx, t in enumerate(MODEL_TASK_IDS):\n",
    "    TEST_MODEL_PATH = f\"/_plugins/_ml/tasks/{t}\"\n",
    "    response = make_requests(protocol, host, port, TEST_MODEL_PATH, 'GET', header=header)\n",
    "    logger.info(f\"TEST_MODEL response: {response.status_code} body: {response.json()}\")\n",
    "    data = response.json()\n",
    "    if 'state' in data and data['state'] == 'COMPLETED':\n",
    "        MODEL_ID_MAP[data['model_id']] = MODELS[idx]['MODEL_NAME']\n",
    "        MODEL_IDS.append(data['model_id'])\n",
    "logger.info(f\"model ids {MODEL_IDS}\")"
   ]
  },
  {
   "cell_type": "markdown",
   "id": "e152b5ed-4c5d-44b6-ac17-415ea765f639",
   "metadata": {},
   "source": [
    "# Deploy Models"
   ]
  },
  {
   "cell_type": "code",
   "execution_count": 33,
   "id": "6d984a30-c575-4358-9603-a03edbde86c1",
   "metadata": {},
   "outputs": [
    {
     "name": "stderr",
     "output_type": "stream",
     "text": [
      "INFO:__main__:DEPLOY_MODEL response: 200 body: {'task_id': 'a8BeIZABJGEOAwdvzIpA', 'task_type': 'DEPLOY_MODEL', 'status': 'CREATED'}\n",
      "INFO:__main__:DEPLOY_MODEL response: 200 body: {'task_id': 'bMBeIZABJGEOAwdvzIrH', 'task_type': 'DEPLOY_MODEL', 'status': 'CREATED'}\n",
      "INFO:__main__:task ids ['a8BeIZABJGEOAwdvzIpA', 'bMBeIZABJGEOAwdvzIrH']\n"
     ]
    }
   ],
   "source": [
    "MODEL_DEPLOY_TASK_IDS = []\n",
    "\n",
    "for m in MODEL_IDS:\n",
    "    DEPLOY_MODEL_PATH = f\"/_plugins/_ml/models/{m}/_deploy\"\n",
    "    response = make_requests(protocol, host, port, DEPLOY_MODEL_PATH, 'POST', body={}, header=header)\n",
    "    logger.info(f\"DEPLOY_MODEL response: {response.status_code} body: {response.json()}\")\n",
    "    MODEL_DEPLOY_TASK_IDS.append(response.json()['task_id'])\n",
    "\n",
    "logger.info(f\"task ids {MODEL_DEPLOY_TASK_IDS}\")"
   ]
  },
  {
   "cell_type": "code",
   "execution_count": 37,
   "id": "7c2f94d4-7d42-4a32-90bb-b55e778a358a",
   "metadata": {},
   "outputs": [
    {
     "name": "stderr",
     "output_type": "stream",
     "text": [
      "INFO:__main__:TEST_MODEL response: 200 body: {'model_id': 'acBUIZABJGEOAwdvUors', 'task_type': 'DEPLOY_MODEL', 'function_name': 'TEXT_EMBEDDING', 'state': 'COMPLETED', 'worker_node': ['kRpi4hWvRbS-9fJxZ85iEQ'], 'create_time': 1718546779180, 'last_update_time': 1718546812902, 'is_async': True}\n",
      "INFO:__main__:task id a8BeIZABJGEOAwdvzIpA is COMPLETED\n",
      "INFO:__main__:TEST_MODEL response: 200 body: {'model_id': 'asBUIZABJGEOAwdvU4oe', 'task_type': 'DEPLOY_MODEL', 'function_name': 'SPARSE_ENCODING', 'state': 'COMPLETED', 'worker_node': ['kRpi4hWvRbS-9fJxZ85iEQ'], 'create_time': 1718546779334, 'last_update_time': 1718546830637, 'is_async': True}\n",
      "INFO:__main__:task id bMBeIZABJGEOAwdvzIrH is COMPLETED\n"
     ]
    }
   ],
   "source": [
    "for t in MODEL_DEPLOY_TASK_IDS:\n",
    "    TEST_MODEL_DEPLOY_TASK_PATH = f\"/_plugins/_ml/tasks/{t}\"\n",
    "    response = make_requests(protocol, host, port, TEST_MODEL_DEPLOY_TASK_PATH, 'GET', header=header)\n",
    "    logger.info(f\"TEST_MODEL response: {response.status_code} body: {response.json()}\")\n",
    "    data = response.json()\n",
    "    if 'state' in data and data['state'] == 'COMPLETED':\n",
    "        logger.info(f\"task id {t} is {data['state']}\")"
   ]
  },
  {
   "cell_type": "markdown",
   "id": "68318a44-7f4e-47c2-a4e8-242ad629be17",
   "metadata": {},
   "source": [
    "# Create Pipeline"
   ]
  },
  {
   "cell_type": "code",
   "execution_count": 38,
   "id": "60659a88-85a2-4da8-ae23-ed0cced8dcfb",
   "metadata": {},
   "outputs": [
    {
     "name": "stderr",
     "output_type": "stream",
     "text": [
      "INFO:__main__:CREATE_PIPELINE response: 200 body: {'acknowledged': True}\n"
     ]
    }
   ],
   "source": [
    "processors = []\n",
    "for i, m in enumerate(MODEL_IDS):\n",
    "    if MODELS[i]['MODEL_TYPE'] == 'dense':\n",
    "        processors.append({\n",
    "            \"text_embedding\": {\n",
    "                \"model_id\": m,\n",
    "                \"field_map\": {\n",
    "                  \"text\": FIELD_MAP[MODEL_ID_MAP[m]]\n",
    "                }\n",
    "          }\n",
    "        })\n",
    "    else:\n",
    "        processors.append({\n",
    "            \"sparse_encoding\": {\n",
    "                \"model_id\": m,\n",
    "                \"field_map\": {\n",
    "                  \"text\": FIELD_MAP[MODEL_ID_MAP[m]]\n",
    "                }\n",
    "          }\n",
    "        })\n",
    "CREATE_PIPELINE_BODY = {\n",
    "    \"description\": PIPELINE_NAME,\n",
    "    \"processors\": processors\n",
    "}\n",
    "CREATE_PIPELINE_PATH = F\"/_ingest/pipeline/{PIPELINE_NAME}\"\n",
    "response = make_requests(protocol, host, port, CREATE_PIPELINE_PATH, 'PUT', body=CREATE_PIPELINE_BODY, header=header)\n",
    "logger.info(f\"CREATE_PIPELINE response: {response.status_code} body: {response.json()}\")"
   ]
  },
  {
   "cell_type": "code",
   "execution_count": 39,
   "id": "8e109db3-ed8b-4ad5-ba41-f51e4264e4c8",
   "metadata": {},
   "outputs": [
    {
     "name": "stderr",
     "output_type": "stream",
     "text": [
      "INFO:__main__:GET_PIPELINE response: 200 body: {'proof_of_concept_pipeline': {'description': 'proof_of_concept_pipeline', 'processors': [{'text_embedding': {'model_id': 'acBUIZABJGEOAwdvUors', 'field_map': {'text': 'bert_embeddings'}}}, {'sparse_encoding': {'model_id': 'asBUIZABJGEOAwdvU4oe', 'field_map': {'text': 'oss_sparse_embeddings'}}}]}, 'msmarco-distilbert-base-tas-b-ingest-pipeline': {'description': 'msmarco-distilbert ingest pipeline-v2', 'processors': [{'text_embedding': {'model_id': 'g_06_o8B0WrWLUTBacDN', 'field_map': {'text': 'msmarco_distilbert_embedding'}}}]}}\n"
     ]
    }
   ],
   "source": [
    "GET_PIPELINE_PATH = F\"/_ingest/pipeline\"\n",
    "response = make_requests(protocol, host, port, GET_PIPELINE_PATH, 'GET', header=header)\n",
    "logger.info(f\"GET_PIPELINE response: {response.status_code} body: {response.json()}\")"
   ]
  },
  {
   "cell_type": "code",
   "execution_count": null,
   "id": "405e14ad-dcf6-4c18-bfe2-3d346a7e640a",
   "metadata": {},
   "outputs": [],
   "source": []
  },
  {
   "cell_type": "code",
   "execution_count": null,
   "id": "89d06a8c-76e6-4dae-b513-f8b888e107b4",
   "metadata": {},
   "outputs": [],
   "source": []
  },
  {
   "cell_type": "markdown",
   "id": "58a21aea-8a46-4bf0-bba7-d48b11abdb19",
   "metadata": {},
   "source": [
    "# Cleanup"
   ]
  },
  {
   "cell_type": "code",
   "execution_count": 21,
   "id": "a4d391ee-e5c7-4cef-b75f-35d5e35571c3",
   "metadata": {},
   "outputs": [
    {
     "name": "stderr",
     "output_type": "stream",
     "text": [
      "INFO:__main__:response: 200 body: {'acknowledged': True}\n",
      "INFO:__main__:response: 200 body: {'kRpi4hWvRbS-9fJxZ85iEQ': {'stats': {'YsBEIZABJGEOAwdv7YrN': 'undeployed'}}}\n",
      "INFO:__main__:response: 200 body: {'_index': '.plugins-ml-model', '_id': 'YsBEIZABJGEOAwdv7YrN', '_version': 6, 'result': 'deleted', 'forced_refresh': True, '_shards': {'total': 1, 'successful': 1, 'failed': 0}, '_seq_no': 315, '_primary_term': 3}\n",
      "INFO:__main__:response: 200 body: {'kRpi4hWvRbS-9fJxZ85iEQ': {'stats': {'Y8BEIZABJGEOAwdv7ooy': 'undeployed'}}}\n",
      "INFO:__main__:response: 200 body: {'_index': '.plugins-ml-model', '_id': 'Y8BEIZABJGEOAwdv7ooy', '_version': 7, 'result': 'deleted', 'forced_refresh': True, '_shards': {'total': 1, 'successful': 1, 'failed': 0}, '_seq_no': 344, '_primary_term': 3}\n",
      "INFO:__main__:response: 200 body: {'_index': '.plugins-ml-model-group', '_id': 'X8BEIZABJGEOAwdvY4pw', '_version': 4, 'result': 'deleted', '_shards': {'total': 1, 'successful': 1, 'failed': 0}, '_seq_no': 15, '_primary_term': 3}\n"
     ]
    }
   ],
   "source": [
    "import time\n",
    "\"\"\"\n",
    "Delete ingest pipeline\n",
    "\"\"\"\n",
    "response = make_requests(protocol, host, port, f\"/_search/pipeline/{PIPELINE_NAME}\", 'DELETE', header=header)\n",
    "logger.info(f\"response: {response.status_code} body: {response.json()}\")\n",
    "\n",
    "\"\"\"\n",
    "Undeploy models\n",
    "\"\"\"\n",
    "for m in MODEL_IDS:\n",
    "    response = make_requests(protocol, host, port, f\"/_plugins/_ml/models/{m}/_undeploy\", 'POST', body={}, header=header)\n",
    "    logger.info(f\"response: {response.status_code} body: {response.json()}\")\n",
    "    time.sleep(120)\n",
    "    response = make_requests(protocol, host, port, f\"/_plugins/_ml/models/{m}\", 'DELETE', header=header)\n",
    "    logger.info(f\"response: {response.status_code} body: {response.json()}\")\n",
    "\n",
    "\"\"\"\n",
    "Delete model Group\n",
    "\"\"\"\n",
    "response = make_requests(protocol, host, port, f\"/_plugins/_ml/model_groups/{MODEL_GROUP_ID}\", 'DELETE', header=header)\n",
    "logger.info(f\"response: {response.status_code} body: {response.json()}\")"
   ]
  },
  {
   "cell_type": "code",
   "execution_count": null,
   "id": "a009c1f1-6caa-4fc4-9efe-67c631b222eb",
   "metadata": {},
   "outputs": [],
   "source": [
    " "
   ]
  }
 ],
 "metadata": {
  "kernelspec": {
   "display_name": "Python 3 (ipykernel)",
   "language": "python",
   "name": "python3"
  },
  "language_info": {
   "codemirror_mode": {
    "name": "ipython",
    "version": 3
   },
   "file_extension": ".py",
   "mimetype": "text/x-python",
   "name": "python",
   "nbconvert_exporter": "python",
   "pygments_lexer": "ipython3",
   "version": "3.12.3"
  }
 },
 "nbformat": 4,
 "nbformat_minor": 5
}
