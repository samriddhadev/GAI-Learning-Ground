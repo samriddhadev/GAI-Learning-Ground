{
 "cells": [
  {
   "cell_type": "code",
   "execution_count": 4,
   "id": "eef7eb93-ef42-48e6-b5f4-1ff21ca187e4",
   "metadata": {},
   "outputs": [],
   "source": [
    "import os\n",
    "import logging\n",
    "os.environ['SOURCE_FILE']='C:/workspace/experiments/GenAI/Projects/Test Data/aws.pdf'\n",
    "logger = logging.getLogger(__name__)\n",
    "logging.basicConfig(level=logging.INFO)"
   ]
  },
  {
   "cell_type": "markdown",
   "id": "8e256324-c2f4-4d72-aaee-81434d59c4c9",
   "metadata": {},
   "source": [
    "## Load data to vector store"
   ]
  },
  {
   "cell_type": "code",
   "execution_count": 6,
   "id": "7e0aea47-63b6-41b1-a054-c624b4c66c70",
   "metadata": {},
   "outputs": [
    {
     "name": "stderr",
     "output_type": "stream",
     "text": [
      "INFO:__main__:loading file: C:/workspace/experiments/GenAI/Projects/Test Data/aws.pdf\n"
     ]
    }
   ],
   "source": [
    "from langchain_community.document_loaders import PyMuPDFLoader\n",
    "f = os.getenv('SOURCE_FILE')\n",
    "logger.info(f\"loading file: {f}\")\n",
    "loader = PyMuPDFLoader(f)\n",
    "docs = loader.load()"
   ]
  },
  {
   "cell_type": "code",
   "execution_count": 7,
   "id": "8491b490-626a-4c76-9604-c14a7bab3116",
   "metadata": {},
   "outputs": [],
   "source": [
    "from langchain.text_splitter import CharacterTextSplitter\n",
    "text_splitter = CharacterTextSplitter(chunk_size=1000, chunk_overlap=0)\n",
    "transformed_docs = text_splitter.split_documents(docs)"
   ]
  },
  {
   "cell_type": "code",
   "execution_count": 9,
   "id": "97616020-dfd8-4293-bdcd-cb462bb8a078",
   "metadata": {},
   "outputs": [],
   "source": [
    "from langchain_openai import OpenAIEmbeddings\n",
    "embeddings = OpenAIEmbeddings(openai_api_key=os.getenv('OPENAI_API_KEY'), model=\"text-embedding-ada-002\")"
   ]
  },
  {
   "cell_type": "code",
   "execution_count": 10,
   "id": "b12feb0e-8ec5-401d-bf24-6c4e42d7a4e9",
   "metadata": {},
   "outputs": [
    {
     "name": "stderr",
     "output_type": "stream",
     "text": [
      "INFO:httpx:HTTP Request: GET http://localhost:8080/v1/.well-known/openid-configuration \"HTTP/1.1 404 Not Found\"\n",
      "INFO:httpx:HTTP Request: GET http://localhost:8080/v1/meta \"HTTP/1.1 200 OK\"\n",
      "INFO:httpx:HTTP Request: GET https://pypi.org/pypi/weaviate-client/json \"HTTP/1.1 200 OK\"\n",
      "INFO:httpx:HTTP Request: GET http://localhost:8080/v1/schema/Aws \"HTTP/1.1 404 Not Found\"\n",
      "INFO:httpx:HTTP Request: POST http://localhost:8080/v1/schema \"HTTP/1.1 200 OK\"\n",
      "INFO:httpx:HTTP Request: GET http://localhost:8080/v1/schema/Aws \"HTTP/1.1 200 OK\"\n",
      "INFO:httpx:HTTP Request: POST https://api.openai.com/v1/embeddings \"HTTP/1.1 200 OK\"\n",
      "INFO:httpx:HTTP Request: GET http://localhost:8080/v1/schema \"HTTP/1.1 200 OK\"\n",
      "INFO:httpx:HTTP Request: GET http://localhost:8080/v1/nodes \"HTTP/1.1 200 OK\"\n"
     ]
    }
   ],
   "source": [
    "import weaviate\n",
    "from langchain_weaviate.vectorstores import WeaviateVectorStore\n",
    "weaviate_client = weaviate.connect_to_local()\n",
    "try:\n",
    "    WeaviateVectorStore.from_documents(docs, embeddings, client=weaviate_client, index_name=\"aws\")\n",
    "finally:\n",
    "    weaviate_client.close()"
   ]
  },
  {
   "cell_type": "markdown",
   "id": "b1e1cb74-d918-46fc-a4f1-5b6c400c6a11",
   "metadata": {},
   "source": [
    "## Vector Search"
   ]
  },
  {
   "cell_type": "code",
   "execution_count": 17,
   "id": "a676c979-ab88-4ee5-b296-3108b0349e2b",
   "metadata": {},
   "outputs": [
    {
     "name": "stderr",
     "output_type": "stream",
     "text": [
      "INFO:httpx:HTTP Request: GET http://localhost:8080/v1/.well-known/openid-configuration \"HTTP/1.1 404 Not Found\"\n",
      "INFO:httpx:HTTP Request: GET http://localhost:8080/v1/meta \"HTTP/1.1 200 OK\"\n",
      "INFO:httpx:HTTP Request: GET https://pypi.org/pypi/weaviate-client/json \"HTTP/1.1 200 OK\"\n",
      "INFO:httpx:HTTP Request: GET http://localhost:8080/v1/schema/Aws \"HTTP/1.1 200 OK\"\n",
      "INFO:httpx:HTTP Request: GET http://localhost:8080/v1/schema/Aws \"HTTP/1.1 200 OK\"\n"
     ]
    }
   ],
   "source": [
    "weaviate_client = weaviate.connect_to_local()\n",
    "embeddings = OpenAIEmbeddings(openai_api_key=os.getenv('OPENAI_API_KEY'), model=\"text-embedding-ada-002\")\n",
    "store = WeaviateVectorStore(client=weaviate_client, index_name=\"aws\", text_key=\"text\", embedding=embeddings)"
   ]
  },
  {
   "cell_type": "code",
   "execution_count": 18,
   "id": "e223b208-59c4-4d61-a5d8-17adfec646f3",
   "metadata": {},
   "outputs": [],
   "source": [
    "query = \"what are the different transformation domains ?\""
   ]
  },
  {
   "cell_type": "code",
   "execution_count": 19,
   "id": "4b95b992-8fb8-492b-b9ae-91cf7a982a7d",
   "metadata": {},
   "outputs": [
    {
     "name": "stderr",
     "output_type": "stream",
     "text": [
      "INFO:httpx:HTTP Request: POST https://api.openai.com/v1/embeddings \"HTTP/1.1 200 OK\"\n"
     ]
    },
    {
     "name": "stdout",
     "output_type": "stream",
     "text": [
      "[Document(page_content='An Overview of the AWS Cloud Adoption Framework\\nAWS Whitepaper\\nAccelerating business outcomes with cloud powered \\ndigital transformation\\nThe cloud transformation value chain in the following ﬁgure shows that business outcomes are \\naccelerated through cloud powered organizational change (transformation) that is enabled by \\na set of foundational capabilities. The transformation domains represent a value chain where \\ntechnological transformation enables process transformation which enables organizational \\ntransformation that enables product transformation. Key business outcomes include reduced \\nbusiness risk, improved environmental, social and governance (ESG) performance, as well as \\nincreased revenue and operational eﬃciency.\\nCloud transformation value chain\\n• Technological transformation focuses on using cloud to migrate and modernize legacy \\ninfrastructure, applications, and data and analytics platforms. Cloud Value Benchmarking\\nshows that migrating from on-premises to AWS leads to a 27% reduction in cost per user, a \\n58% increase in VMs managed per admin, a 57% decrease in downtime, and a 34% decrease in \\nsecurity events.\\n• Process transformation focuses on digitizing, automating, and optimizing your business \\noperations. This may include leveraging new data and analytics platforms to create actionable \\n4\\n', metadata={'subject': '', 'creator': 'ZonBook XSL Stylesheets with Apache FOP', 'total_pages': 42.0, 'keywords': '', 'trapped': '', 'modDate': '', 'format': 'PDF 1.4', 'file_path': 'C:/workspace/experiments/GenAI/Projects/Test Data/aws.pdf', 'creationDate': 'D:20240525051807Z', 'source': 'C:/workspace/experiments/GenAI/Projects/Test Data/aws.pdf', 'producer': 'Apache FOP Version 2.6', 'page': 7.0, 'title': 'An Overview of the AWS Cloud Adoption Framework - AWS Whitepaper', 'author': 'Amazon Web Services'}), Document(page_content='An Overview of the AWS Cloud Adoption Framework\\nAWS Whitepaper\\nYour cloud transformation journey\\nEach organization’s cloud journey is unique. To succeed in your transformation, you’ll need to \\nenvision your desired target state, understand your cloud readiness, and adopt an agile approach \\nto closing the gaps. Transforming incrementally will allow you to demonstrate value quickly while \\nminimizing the need to make far-reaching predictions. Adopting an iterative approach will help \\nyou maintain momentum and evolve your roadmap as you learn from experience. The AWS CAF \\nrecommends four iterative and incremental cloud transformation phases shown in the following \\nﬁgure.\\nCloud transformation journey\\n• Envision phase focuses on demonstrating how cloud will help accelerate your business \\noutcomes. It does so by identifying and prioritizing transformation opportunities across each \\nof the four transformation domains in line with your strategic business objectives. Associating \\nyour transformation initiatives with key stakeholders (senior individuals capable of inﬂuencing \\nand driving change) and measurable business outcomes will help you demonstrate value as you \\nprogress through your transformation journey.\\n• Align phase focuses on identifying capability gaps across the six AWS CAF perspectives, \\nidentifying cross-organizational dependencies, and surfacing stakeholder concerns and \\n8\\n', metadata={'subject': '', 'creator': 'ZonBook XSL Stylesheets with Apache FOP', 'total_pages': 42.0, 'keywords': '', 'modDate': '', 'trapped': '', 'format': 'PDF 1.4', 'creationDate': 'D:20240525051807Z', 'source': 'C:/workspace/experiments/GenAI/Projects/Test Data/aws.pdf', 'file_path': 'C:/workspace/experiments/GenAI/Projects/Test Data/aws.pdf', 'title': 'An Overview of the AWS Cloud Adoption Framework - AWS Whitepaper', 'page': 11.0, 'producer': 'Apache FOP Version 2.6', 'author': 'Amazon Web Services'}), Document(page_content='An Overview of the AWS Cloud Adoption Framework\\nAWS Whitepaper\\nFoundational capabilities\\nEach of the transformation domains described in the preceding section is enabled by a set \\nof foundational capabilities shown in the following ﬁgure. A capability is an organizational \\nability to leverage processes to deploy resources (people, technology, and any other tangible or \\nintangible assets) to achieve a particular outcome. AWS CAF capabilities provide best practice \\nguidance that helps you improve your cloud readiness (your ability to eﬀectively leverage cloud \\nto digitally transform). AWS CAF groups its capabilities in six perspectives: Business, People, \\nGovernance, Platform, Security, and Operations. Each perspective comprises a set of capabilities \\nthat functionally related stakeholders own or manage in your cloud transformation journey.\\nAWS CAF perspectives and foundational capabilities\\n• Business perspective helps ensure that your cloud investments accelerate your digital \\ntransformation ambitions and business outcomes. Common stakeholders include chief executive \\noﬃcer (CEO), chief ﬁnancial oﬃcer (CFO), chief operations oﬃcer (COO), chief information oﬃcer \\n(CIO), and chief technology oﬃcer (CTO).\\n• People perspective serves as a bridge between technology and business, accelerating the cloud \\njourney to help organizations more rapidly evolve to a culture of continuous growth, learning, \\nand where change becomes business-as-normal, with focus on culture, organizational structure, \\n6\\n', metadata={'subject': '', 'creator': 'ZonBook XSL Stylesheets with Apache FOP', 'total_pages': 42.0, 'keywords': '', 'trapped': '', 'modDate': '', 'format': 'PDF 1.4', 'file_path': 'C:/workspace/experiments/GenAI/Projects/Test Data/aws.pdf', 'source': 'C:/workspace/experiments/GenAI/Projects/Test Data/aws.pdf', 'creationDate': 'D:20240525051807Z', 'producer': 'Apache FOP Version 2.6', 'page': 9.0, 'title': 'An Overview of the AWS Cloud Adoption Framework - AWS Whitepaper', 'author': 'Amazon Web Services'}), Document(page_content='An Overview of the AWS Cloud Adoption Framework\\nAWS Whitepaper\\nDocument revisions\\nTo be notiﬁed about updates to this whitepaper, subscribe to the RSS feed.\\nChange\\nDescription\\nDate\\nFreshness review\\nContent reviewed for \\nfreshness and accuracy - no \\nchanges.\\nFebruary 19, 2023\\nWhitepaper updated\\nAdded links to translated PDF \\ndocuments.\\nMarch 29, 2022\\nThird publication\\nUpdated and expanded \\ncapabilities. Added transform \\nation domains and journey \\nphases.\\nNovember 22, 2021\\nSecond publication\\nStructural changes to \\nperspectives and capabilities.\\nFebruary 1, 2017\\nInitial publication\\nWhitepaper ﬁrst published.\\nFebruary 1, 2015\\n37\\n', metadata={'subject': '', 'creator': 'ZonBook XSL Stylesheets with Apache FOP', 'total_pages': 42.0, 'keywords': '', 'trapped': '', 'modDate': '', 'format': 'PDF 1.4', 'source': 'C:/workspace/experiments/GenAI/Projects/Test Data/aws.pdf', 'file_path': 'C:/workspace/experiments/GenAI/Projects/Test Data/aws.pdf', 'creationDate': 'D:20240525051807Z', 'producer': 'Apache FOP Version 2.6', 'page': 40.0, 'title': 'An Overview of the AWS Cloud Adoption Framework - AWS Whitepaper', 'author': 'Amazon Web Services'})]\n"
     ]
    }
   ],
   "source": [
    "docs = store.similarity_search(query, alpha=0)\n",
    "print(docs)"
   ]
  },
  {
   "cell_type": "code",
   "execution_count": null,
   "id": "1394ef11-96d6-400d-a84c-f03b852f30db",
   "metadata": {},
   "outputs": [],
   "source": []
  }
 ],
 "metadata": {
  "kernelspec": {
   "display_name": "Python 3 (ipykernel)",
   "language": "python",
   "name": "python3"
  },
  "language_info": {
   "codemirror_mode": {
    "name": "ipython",
    "version": 3
   },
   "file_extension": ".py",
   "mimetype": "text/x-python",
   "name": "python",
   "nbconvert_exporter": "python",
   "pygments_lexer": "ipython3",
   "version": "3.12.3"
  }
 },
 "nbformat": 4,
 "nbformat_minor": 5
}
